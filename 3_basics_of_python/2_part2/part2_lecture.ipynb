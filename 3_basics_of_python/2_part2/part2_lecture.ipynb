{
 "cells": [
  {
   "cell_type": "markdown",
   "metadata": {},
   "source": [
    "# Working with text"
   ]
  },
  {
   "cell_type": "markdown",
   "metadata": {},
   "source": [
    "So far we worked mostly with numbers and the only time we used text was to just print something on screen with `print('some text goes here')`.\n",
    "\n",
    "Text type in Python (as in most programming languages) is called **String**\n",
    "\n",
    "If we want to use **Strings** in your code we have to always encapulate it with either `\"` or `'` quote signs."
   ]
  },
  {
   "cell_type": "code",
   "execution_count": 4,
   "metadata": {},
   "outputs": [
    {
     "data": {
      "text/plain": [
       "'this is text in single quotes'"
      ]
     },
     "execution_count": 4,
     "metadata": {},
     "output_type": "execute_result"
    }
   ],
   "source": [
    "'this is text in single quotes'"
   ]
  },
  {
   "cell_type": "code",
   "execution_count": 5,
   "metadata": {},
   "outputs": [
    {
     "data": {
      "text/plain": [
       "'this is text in double quotes'"
      ]
     },
     "execution_count": 5,
     "metadata": {},
     "output_type": "execute_result"
    }
   ],
   "source": [
    "\"this is text in double quotes\""
   ]
  },
  {
   "cell_type": "markdown",
   "metadata": {},
   "source": [
    "Does it matter which one we use? Only if we want to use that specific sign in the text itself - if you want to use `'` in your text than you use `\"` to encapsulate your **String**:"
   ]
  },
  {
   "cell_type": "code",
   "execution_count": 9,
   "metadata": {},
   "outputs": [
    {
     "data": {
      "text/plain": [
       "\"I don't have a car\""
      ]
     },
     "execution_count": 9,
     "metadata": {},
     "output_type": "execute_result"
    }
   ],
   "source": [
    "\"I don't have a car\""
   ]
  },
  {
   "cell_type": "code",
   "execution_count": 8,
   "metadata": {},
   "outputs": [
    {
     "data": {
      "text/plain": [
       "'I have read \"The Art of War\" recently'"
      ]
     },
     "execution_count": 8,
     "metadata": {},
     "output_type": "execute_result"
    }
   ],
   "source": [
    "'I have read \"The Art of War\" recently'"
   ]
  },
  {
   "cell_type": "markdown",
   "metadata": {},
   "source": [
    "What if we want to use both in text? We have to **escape** that sign which means annotate it that its not a limiting quote but just a regular quote sign we want to use in text.\n",
    "\n",
    "To espace a character we use `\\` backslash character."
   ]
  },
  {
   "cell_type": "code",
   "execution_count": 24,
   "metadata": {},
   "outputs": [
    {
     "name": "stdout",
     "output_type": "stream",
     "text": [
      "I havn't read \"The Art of War\" yet\n",
      "I havn't read \"The Art of War\" yet\n"
     ]
    }
   ],
   "source": [
    "print(\"I havn\\'t read \\\"The Art of War\\\" yet\")\n",
    "print('I havn\\'t read \\\"The Art of War\\\" yet')"
   ]
  },
  {
   "cell_type": "markdown",
   "metadata": {},
   "source": [
    "Lets see what we can do with **Strings**. What kind of \"arythmetic\" we can do on **Strings**?\n",
    "\n",
    "1. `+` - concatenate two strings together\n",
    "1. `*` - contatenate `x` copies of string to itself"
   ]
  },
  {
   "cell_type": "code",
   "execution_count": 31,
   "metadata": {},
   "outputs": [],
   "source": [
    "string_a = 'Test'\n",
    "string_b = 'String'"
   ]
  },
  {
   "cell_type": "code",
   "execution_count": 32,
   "metadata": {},
   "outputs": [
    {
     "data": {
      "text/plain": [
       "'TestString'"
      ]
     },
     "execution_count": 32,
     "metadata": {},
     "output_type": "execute_result"
    }
   ],
   "source": [
    "string_a + string_b"
   ]
  },
  {
   "cell_type": "code",
   "execution_count": 34,
   "metadata": {},
   "outputs": [
    {
     "data": {
      "text/plain": [
       "'Test String'"
      ]
     },
     "execution_count": 34,
     "metadata": {},
     "output_type": "execute_result"
    }
   ],
   "source": [
    "string_a + ' ' + string_b"
   ]
  },
  {
   "cell_type": "code",
   "execution_count": 51,
   "metadata": {},
   "outputs": [
    {
     "data": {
      "text/plain": [
       "'Test'"
      ]
     },
     "execution_count": 51,
     "metadata": {},
     "output_type": "execute_result"
    }
   ],
   "source": [
    "string_a * 1"
   ]
  },
  {
   "cell_type": "code",
   "execution_count": 52,
   "metadata": {},
   "outputs": [
    {
     "data": {
      "text/plain": [
       "'TestTestTest'"
      ]
     },
     "execution_count": 52,
     "metadata": {},
     "output_type": "execute_result"
    }
   ],
   "source": [
    "string_a * 3"
   ]
  },
  {
   "cell_type": "markdown",
   "metadata": {},
   "source": [
    "We can compare strings. Comparison on strings is done using lexicographical ordering, which pretty much means compare them one character at the time, untill the strings are exhausted and ordering is defined using Unicode values for that character.\n",
    "\n",
    "**Note: Unicode values for lowercase characters are ordered higher than upper case, so for example `a` is considered larger than both `A` and `Z`. So you have to make sure your use case make sense with such comparison if you are trying to deduce if alphbetically some string is after or before another (for example - when sorting).**\n",
    "\n",
    "Testing for `==` equality / `!=` ineaquality this will produce proper results."
   ]
  },
  {
   "cell_type": "code",
   "execution_count": 46,
   "metadata": {},
   "outputs": [
    {
     "name": "stdout",
     "output_type": "stream",
     "text": [
      "True\n",
      "False\n",
      "False\n",
      "False\n",
      "True\n",
      "True\n"
     ]
    }
   ],
   "source": [
    "print('a' <= 'b')\n",
    "print('aaaaa' > 'b')\n",
    "print('Alphabet' > 'Apple')\n",
    "print('a' == 'A')\n",
    "print('B' < 'b')\n",
    "print(string_a != string_b)"
   ]
  },
  {
   "cell_type": "markdown",
   "metadata": {},
   "source": [
    "With strings we can introduce new type of comparison operators: `in` and `not`\n",
    "\n",
    "`X in Y` tests if `X` is part of `Y`. For strings it looks trough entire string `Y` and checks if string `X` is a substring of `Y`. Its is case sensitive.\n",
    "\n",
    "`not` operator is general negation operator that can be placed before any other boolean statement and reverse its value. It can be used in conjunction with `in` as `X not in Y` to test if `X` is not in `Y`. We will get the same results if we use `not X in Y`.\n",
    "\n",
    "`in` operator if calculated in the same time other copmarison are calculatd (so after any arythmetic operations).\n",
    "\n",
    "`not` operator is calculated after the comparison operators"
   ]
  },
  {
   "cell_type": "code",
   "execution_count": 48,
   "metadata": {},
   "outputs": [
    {
     "name": "stdout",
     "output_type": "stream",
     "text": [
      "True\n",
      "True\n",
      "False\n",
      "True\n"
     ]
    }
   ],
   "source": [
    "print('T' in 'Test')\n",
    "print('e' in 'Test')\n",
    "print('E' in 'Test')\n",
    "print('Tes' in 'Test')"
   ]
  },
  {
   "cell_type": "code",
   "execution_count": 49,
   "metadata": {},
   "outputs": [
    {
     "name": "stdout",
     "output_type": "stream",
     "text": [
      "False\n",
      "False\n",
      "True\n",
      "False\n"
     ]
    }
   ],
   "source": [
    "print('T' not in 'Test')\n",
    "print('e' not in 'Test')\n",
    "print('E' not in 'Test')\n",
    "print('Tes' not in 'Test')"
   ]
  },
  {
   "cell_type": "code",
   "execution_count": 50,
   "metadata": {},
   "outputs": [
    {
     "name": "stdout",
     "output_type": "stream",
     "text": [
      "False\n",
      "False\n",
      "True\n",
      "False\n"
     ]
    }
   ],
   "source": [
    "print(not 'T' in 'Test')\n",
    "print(not 'e' in 'Test')\n",
    "print(not 'E' in 'Test')\n",
    "print(not 'Tes' in 'Test')"
   ]
  },
  {
   "cell_type": "code",
   "execution_count": 56,
   "metadata": {},
   "outputs": [
    {
     "data": {
      "text/plain": [
       "False"
      ]
     },
     "execution_count": 56,
     "metadata": {},
     "output_type": "execute_result"
    }
   ],
   "source": [
    "not 'a' == 'a'"
   ]
  },
  {
   "cell_type": "code",
   "execution_count": 57,
   "metadata": {},
   "outputs": [
    {
     "data": {
      "text/plain": [
       "True"
      ]
     },
     "execution_count": 57,
     "metadata": {},
     "output_type": "execute_result"
    }
   ],
   "source": [
    "not 'a' != 'a'"
   ]
  },
  {
   "cell_type": "markdown",
   "metadata": {},
   "source": [
    "# Changing types"
   ]
  },
  {
   "cell_type": "markdown",
   "metadata": {},
   "source": [
    "Very often you will find yourself trying to include number variable in a string - for example you want to customise answer given by your program depending on the value of some computation or imput, like: `\"I'm X years old\"`, where you would want X to be some number you want injected into that string.\n",
    "\n",
    "Lets try simple addition operation and see if it will work:"
   ]
  },
  {
   "cell_type": "code",
   "execution_count": 59,
   "metadata": {},
   "outputs": [
    {
     "ename": "TypeError",
     "evalue": "can only concatenate str (not \"int\") to str",
     "output_type": "error",
     "traceback": [
      "\u001b[1;31m---------------------------------------------------------------------------\u001b[0m",
      "\u001b[1;31mTypeError\u001b[0m                                 Traceback (most recent call last)",
      "\u001b[1;32md:\\PYTHON\\data_course\\3_basics_of_python\\2_part2\\part2_lecture.ipynb Cell 26'\u001b[0m in \u001b[0;36m<cell line: 1>\u001b[1;34m()\u001b[0m\n\u001b[1;32m----> <a href='vscode-notebook-cell:/d%3A/PYTHON/data_course/3_basics_of_python/2_part2/part2_lecture.ipynb#ch0000044?line=0'>1</a>\u001b[0m result \u001b[39m=\u001b[39m \u001b[39m\"\u001b[39;49m\u001b[39mI;m \u001b[39;49m\u001b[39m\"\u001b[39;49m \u001b[39m+\u001b[39;49m \u001b[39m7\u001b[39;49m \u001b[39m+\u001b[39m \u001b[39m\"\u001b[39m\u001b[39m years old\u001b[39m\u001b[39m\"\u001b[39m\n",
      "\u001b[1;31mTypeError\u001b[0m: can only concatenate str (not \"int\") to str"
     ]
    }
   ],
   "source": [
    "result = \"I;m \" + 7 + \" years old\""
   ]
  },
  {
   "cell_type": "markdown",
   "metadata": {},
   "source": [
    "If you run above cell you will get error like the one below:\n",
    "\n",
    "`TypeError: can only concatenate str (not \"int\") to str`\n",
    "\n",
    "We get `TypeError`, which means whatever is causing error is most likely related to the types of objects used in this expressions.\n",
    "\n",
    "Next we see additional information `can only concatenate str (not \"int\") to str`, telling us that we can't use `int` in string \n",
    "concatenation operation.\n",
    "\n",
    "So what can we do? First option is to change the type of object using built-in type functions, coresponding to the type we want to get:\n",
    "\n",
    "1. `int` for Integers\n",
    "1. `float` for Floats\n",
    "1. `str` for Strings\n",
    "1. etc...\n",
    "\n",
    "Lets try it for our example:"
   ]
  },
  {
   "cell_type": "code",
   "execution_count": 63,
   "metadata": {},
   "outputs": [
    {
     "name": "stdout",
     "output_type": "stream",
     "text": [
      "I;m 7 years old\n"
     ]
    }
   ],
   "source": [
    "result = \"I;m \" + str(7) + \" years old\"\n",
    "print(result)"
   ]
  },
  {
   "cell_type": "markdown",
   "metadata": {},
   "source": [
    "**Success**. Lets take a look at few other examples of type casting (changing type) and its limitations.\n",
    "\n",
    "Most importantly: \n",
    "\n",
    "1. We can change any number to string, but only strings representing numbers can be cast into number formats (like `int` or `float`).\n",
    "1. We can change `int` into `float` easly, but when changing `float` to `int` we loose the decimal values (its cut off)\n"
   ]
  },
  {
   "cell_type": "code",
   "execution_count": 72,
   "metadata": {},
   "outputs": [
    {
     "data": {
      "text/plain": [
       "'7'"
      ]
     },
     "execution_count": 72,
     "metadata": {},
     "output_type": "execute_result"
    }
   ],
   "source": [
    "str(7)\n"
   ]
  },
  {
   "cell_type": "code",
   "execution_count": 73,
   "metadata": {},
   "outputs": [
    {
     "data": {
      "text/plain": [
       "'7.5'"
      ]
     },
     "execution_count": 73,
     "metadata": {},
     "output_type": "execute_result"
    }
   ],
   "source": [
    "str(7.5)"
   ]
  },
  {
   "cell_type": "code",
   "execution_count": 74,
   "metadata": {},
   "outputs": [
    {
     "data": {
      "text/plain": [
       "7"
      ]
     },
     "execution_count": 74,
     "metadata": {},
     "output_type": "execute_result"
    }
   ],
   "source": [
    "int('7')\n"
   ]
  },
  {
   "cell_type": "code",
   "execution_count": 75,
   "metadata": {},
   "outputs": [
    {
     "data": {
      "text/plain": [
       "7.0"
      ]
     },
     "execution_count": 75,
     "metadata": {},
     "output_type": "execute_result"
    }
   ],
   "source": [
    "float('7')"
   ]
  },
  {
   "cell_type": "code",
   "execution_count": 76,
   "metadata": {},
   "outputs": [
    {
     "data": {
      "text/plain": [
       "7.5"
      ]
     },
     "execution_count": 76,
     "metadata": {},
     "output_type": "execute_result"
    }
   ],
   "source": [
    "float('7.5')"
   ]
  },
  {
   "cell_type": "code",
   "execution_count": 77,
   "metadata": {},
   "outputs": [
    {
     "ename": "ValueError",
     "evalue": "invalid literal for int() with base 10: 'aaa'",
     "output_type": "error",
     "traceback": [
      "\u001b[1;31m---------------------------------------------------------------------------\u001b[0m",
      "\u001b[1;31mValueError\u001b[0m                                Traceback (most recent call last)",
      "\u001b[1;32md:\\PYTHON\\data_course\\3_basics_of_python\\2_part2\\part2_lecture.ipynb Cell 35'\u001b[0m in \u001b[0;36m<cell line: 1>\u001b[1;34m()\u001b[0m\n\u001b[1;32m----> <a href='vscode-notebook-cell:/d%3A/PYTHON/data_course/3_basics_of_python/2_part2/part2_lecture.ipynb#ch0000061?line=0'>1</a>\u001b[0m \u001b[39mint\u001b[39;49m(\u001b[39m'\u001b[39;49m\u001b[39maaa\u001b[39;49m\u001b[39m'\u001b[39;49m)\n",
      "\u001b[1;31mValueError\u001b[0m: invalid literal for int() with base 10: 'aaa'"
     ]
    }
   ],
   "source": [
    "int('aaa')"
   ]
  },
  {
   "cell_type": "code",
   "execution_count": 78,
   "metadata": {},
   "outputs": [
    {
     "ename": "ValueError",
     "evalue": "invalid literal for int() with base 10: '7.5'",
     "output_type": "error",
     "traceback": [
      "\u001b[1;31m---------------------------------------------------------------------------\u001b[0m",
      "\u001b[1;31mValueError\u001b[0m                                Traceback (most recent call last)",
      "\u001b[1;32md:\\PYTHON\\data_course\\3_basics_of_python\\2_part2\\part2_lecture.ipynb Cell 36'\u001b[0m in \u001b[0;36m<cell line: 1>\u001b[1;34m()\u001b[0m\n\u001b[1;32m----> <a href='vscode-notebook-cell:/d%3A/PYTHON/data_course/3_basics_of_python/2_part2/part2_lecture.ipynb#ch0000062?line=0'>1</a>\u001b[0m \u001b[39mint\u001b[39;49m(\u001b[39m'\u001b[39;49m\u001b[39m7.5\u001b[39;49m\u001b[39m'\u001b[39;49m)\n",
      "\u001b[1;31mValueError\u001b[0m: invalid literal for int() with base 10: '7.5'"
     ]
    }
   ],
   "source": [
    "int('7.5')"
   ]
  },
  {
   "cell_type": "code",
   "execution_count": 79,
   "metadata": {},
   "outputs": [
    {
     "data": {
      "text/plain": [
       "7"
      ]
     },
     "execution_count": 79,
     "metadata": {},
     "output_type": "execute_result"
    }
   ],
   "source": [
    "int(7.5)"
   ]
  },
  {
   "cell_type": "code",
   "execution_count": 80,
   "metadata": {},
   "outputs": [
    {
     "data": {
      "text/plain": [
       "7.0"
      ]
     },
     "execution_count": 80,
     "metadata": {},
     "output_type": "execute_result"
    }
   ],
   "source": [
    "float(7)"
   ]
  },
  {
   "cell_type": "markdown",
   "metadata": {},
   "source": [
    "Lets try it out in the wild. We get two numbers represented as strings that are length of two legs of right triangle."
   ]
  },
  {
   "cell_type": "code",
   "execution_count": 8,
   "metadata": {},
   "outputs": [],
   "source": [
    "leg_a = 10\n",
    "leg_b = 20\n",
    "hypotenuse = (leg_a ** 2 + leg_b ** 2) ** 0.5"
   ]
  },
  {
   "cell_type": "markdown",
   "metadata": {},
   "source": [
    "Now we want to print the expresion describing that given length of those two legs (shown with decimals) the length of hypothenuse is x (also show with decimal places)."
   ]
  },
  {
   "cell_type": "code",
   "execution_count": 11,
   "metadata": {},
   "outputs": [
    {
     "name": "stdout",
     "output_type": "stream",
     "text": [
      "Given two traingle legs of length 10.0 and 20.0 hypothenuse length is 22.360679774997898\n"
     ]
    }
   ],
   "source": [
    "print(\"Given two triangle legs of length \" + str(float(leg_a)) + \" and \" + str(float(leg_b)) + \" hypotenuse length is \" + str(float(hypotenuse)))"
   ]
  },
  {
   "cell_type": "markdown",
   "metadata": {},
   "source": [
    "It works, but I think we can agree that its a lot of work to concatanate all those strings and remember to change type all the time. And also that `22.360679774997898` is way more precise than we need to convey answer to our users. Likely we can solve both problems with string formatting."
   ]
  },
  {
   "cell_type": "markdown",
   "metadata": {},
   "source": [
    "# Proper string formatting"
   ]
  },
  {
   "cell_type": "markdown",
   "metadata": {},
   "source": [
    "String formatting is a way to incorporate other objects inside the string without manually type casting into `str`. It also allows us to specify how the values should be printed - for example how many decimal places it should print.\n",
    "\n",
    "If you google `python string formatting` you will most likely find examples showing 3 completly different syntaxes:\n",
    "\n",
    "1. Python 2 syntax, using `%` sign -  `\"My name is %s, I'm %d years old\" % (name, age)`\n",
    "1. Python 3 syntax, using `.format` and `{}` - `\"My name is {}, I'm {} years old\".format(name, age)`\n",
    "1. Python 3.6+ syntax, using `f-strings` - `f\"My name is {name}, I'm {age} years old\"`"
   ]
  },
  {
   "cell_type": "markdown",
   "metadata": {},
   "source": [
    "Unless you maintain old code written before Python 3.6 I would only use f-strings, they are (in my opinion) more readable than older methods. In this course we will focus on `f-string` method, but `.format` is still supported so you may still find it when looking trough code online and there are use cases where we have to still use it - I will provide example in **Extra** section."
   ]
  },
  {
   "cell_type": "markdown",
   "metadata": {},
   "source": [
    "`f-string` is just a string where we put `f` in front of quote signs. It tells python that we may want to put variables or other python expresions inside it. We denote location where we want to put python objects with `{}` curly brakets. Any python code put inside will be calculated before the string is calculated and output will be cast to string and put inside the string."
   ]
  },
  {
   "cell_type": "code",
   "execution_count": 12,
   "metadata": {},
   "outputs": [
    {
     "data": {
      "text/plain": [
       "\"My name is Marcin, I'm 40 years old\""
      ]
     },
     "execution_count": 12,
     "metadata": {},
     "output_type": "execute_result"
    }
   ],
   "source": [
    "name = 'Marcin'\n",
    "age = 40\n",
    "f'My name is {name}, I\\'m {age} years old'"
   ]
  },
  {
   "cell_type": "markdown",
   "metadata": {},
   "source": [
    "This is much shorter than concatanation, require no casting and its very clear to reader what this string will looks like.\n",
    "\n",
    "Like I mentioned earlier we dont have to use variables but any python code that will get us some result:"
   ]
  },
  {
   "cell_type": "code",
   "execution_count": 13,
   "metadata": {},
   "outputs": [
    {
     "data": {
      "text/plain": [
       "\"My name is Marcin, I'm 40 years old\""
      ]
     },
     "execution_count": 13,
     "metadata": {},
     "output_type": "execute_result"
    }
   ],
   "source": [
    "f'My name is {\"Mar\" + \"cin\"}, I\\'m {20 + 5 * 4} years old'"
   ]
  },
  {
   "cell_type": "markdown",
   "metadata": {},
   "source": [
    "But we have to put something inside curly brackets, otherwise:"
   ]
  },
  {
   "cell_type": "code",
   "execution_count": 14,
   "metadata": {},
   "outputs": [
    {
     "ename": "SyntaxError",
     "evalue": "f-string: empty expression not allowed (3286315803.py, line 1)",
     "output_type": "error",
     "traceback": [
      "\u001b[1;36m  Input \u001b[1;32mIn [14]\u001b[1;36m\u001b[0m\n\u001b[1;33m    f'My name is {}, I\\'m {20 + 5 * 4} years old'\u001b[0m\n\u001b[1;37m                                                 ^\u001b[0m\n\u001b[1;31mSyntaxError\u001b[0m\u001b[1;31m:\u001b[0m f-string: empty expression not allowed\n"
     ]
    }
   ],
   "source": [
    "f'My name is {}, I\\'m {20 + 5 * 4} years old'"
   ]
  },
  {
   "cell_type": "markdown",
   "metadata": {},
   "source": [
    "Lets try to format our triangle example using f-strings and fix that decimal problem we had"
   ]
  },
  {
   "cell_type": "code",
   "execution_count": 25,
   "metadata": {},
   "outputs": [
    {
     "name": "stdout",
     "output_type": "stream",
     "text": [
      "Given two traingle legs of length 10 and 20 hypothenuse length is 22.360679774997898\n"
     ]
    }
   ],
   "source": [
    "leg_a = 10\n",
    "leg_b = 20\n",
    "hypotenuse = (leg_a ** 2 + leg_b ** 2) ** 0.5\n",
    "print(f\"Given two triangle legs of length {leg_a} and {leg_b} hypotenuse length is {hypotenuse}\")"
   ]
  },
  {
   "cell_type": "markdown",
   "metadata": {},
   "source": [
    "Wait a minute, we wanted leg_a and leg_b shown as floats with decimal places! And there is still that looong tail of decimals for hypothenuse!\n",
    "\n",
    "Lets fix that with format specifiers. Lets decide how many decimal points we want for each number. Lets say we want 3 decimal points for hypothenuse and 1 for legs. \n",
    "\n",
    "To add formatting specifier we start with `:` sign inside curly brackets after the expresion and provide specific formatting options, depending on what we want to print. For floating point precision we use `:.xf`, where `x` is the number of decimal places:"
   ]
  },
  {
   "cell_type": "code",
   "execution_count": 26,
   "metadata": {},
   "outputs": [
    {
     "name": "stdout",
     "output_type": "stream",
     "text": [
      "Given two traingle legs of length 10 and 20 hypothenuse length is 22.360679774997898\n",
      "Given two traingle legs of length 10.0 and 20.0 hypothenuse length is 22.361\n"
     ]
    }
   ],
   "source": [
    "leg_a = 10\n",
    "leg_b = 20\n",
    "hypotenuse = (leg_a ** 2 + leg_b ** 2) ** 0.5\n",
    "print(f\"Given two triangle legs of length {leg_a} and {leg_b} hypotenuse length is {hypotenuse}\")\n",
    "print(f\"Given two triangle legs of length {leg_a:.1f} and {leg_b:.1f} hypotenuse length is {hypotenuse:.3f}\")"
   ]
  },
  {
   "cell_type": "markdown",
   "metadata": {},
   "source": [
    "Notice that the decimal places where not simply cut off after `22.360`, they where corectly rounded to `22.361` following arithmetic rounding rules."
   ]
  },
  {
   "cell_type": "markdown",
   "metadata": {},
   "source": [
    "Here is few more examples of string formatting tricks:"
   ]
  },
  {
   "cell_type": "code",
   "execution_count": 87,
   "metadata": {},
   "outputs": [
    {
     "name": "stdout",
     "output_type": "stream",
     "text": [
      "this fraction (0.235676) is now a shown as percentage: 23.57%\n",
      "this float (4.735676) is now rounded to integer: 5\n",
      "this float (0.00735676) is now shown with scientific notation: 7.36e-03\n",
      "this number (2346) is now a hexadecimal number: 92A\n"
     ]
    }
   ],
   "source": [
    "print(f'this fraction (0.235676) is now a shown as percentage: {0.235676:.2%}')\n",
    "print(f'this float (4.735676) is now rounded to integer: {4.735676:.0f}')\n",
    "print(f'this float (0.00735676) is now shown with scientific notation: {0.00735676:.2e}')\n",
    "print(f'this number (2346) is now a hexadecimal number: {2346:X}')"
   ]
  },
  {
   "cell_type": "markdown",
   "metadata": {},
   "source": [
    "# Indexing - accessing parts of the strings"
   ]
  },
  {
   "cell_type": "markdown",
   "metadata": {},
   "source": [
    "TODO: do it"
   ]
  },
  {
   "cell_type": "code",
   "execution_count": null,
   "metadata": {},
   "outputs": [],
   "source": []
  },
  {
   "cell_type": "markdown",
   "metadata": {},
   "source": [
    "# Taking input from the user"
   ]
  },
  {
   "cell_type": "markdown",
   "metadata": {},
   "source": [
    "It will be quite rare to write a piece of software that only work with the values we write inside our code. Espetially when working with data we will somehow want to incorporate data from outside of our program into its functionality. Later in the course we will be reading in files, accesing data from the internet or query the databases but now lets start small. \n",
    "\n",
    "We want to allow our user to provide requested values during program run time. The easiest way to do it is to use `input()`.\n",
    "\n",
    "Lets run below cell and see what happens:"
   ]
  },
  {
   "cell_type": "code",
   "execution_count": 125,
   "metadata": {},
   "outputs": [
    {
     "data": {
      "text/plain": [
       "''"
      ]
     },
     "execution_count": 125,
     "metadata": {},
     "output_type": "execute_result"
    }
   ],
   "source": [
    "input('What is your name: ')"
   ]
  },
  {
   "cell_type": "markdown",
   "metadata": {},
   "source": [
    "We where asked to input a value using the string provided as argument as a prompt message. If you are NOT using jupyter it might have looked differently, but generally somewhere on the screen a prompt for input should pop-up.\n",
    "\n",
    "The value we provided was returned as output of that cell. We can store the output in a variable instead for later use:"
   ]
  },
  {
   "cell_type": "code",
   "execution_count": 127,
   "metadata": {},
   "outputs": [
    {
     "name": "stdout",
     "output_type": "stream",
     "text": [
      "Your name is Marcin\n"
     ]
    }
   ],
   "source": [
    "user_name = input('What is your name: ')\n",
    "print(f\"Your name is {user_name}\")"
   ]
  },
  {
   "cell_type": "markdown",
   "metadata": {},
   "source": [
    "We can ask for multiple values:"
   ]
  },
  {
   "cell_type": "code",
   "execution_count": 128,
   "metadata": {},
   "outputs": [
    {
     "name": "stdout",
     "output_type": "stream",
     "text": [
      "Your name is Marcin and you are 40 years old\n"
     ]
    }
   ],
   "source": [
    "user_name = input('What is your name: ')\n",
    "user_age = input('How old are you: ')\n",
    "print(f\"Your name is {user_name} and you are {user_age} years old.\")"
   ]
  },
  {
   "cell_type": "markdown",
   "metadata": {},
   "source": [
    "Note: the value we get is always string, even if we type a number. Run below cell and make sure to type something that is a valid number."
   ]
  },
  {
   "cell_type": "code",
   "execution_count": 131,
   "metadata": {},
   "outputs": [
    {
     "ename": "TypeError",
     "evalue": "can only concatenate str (not \"int\") to str",
     "output_type": "error",
     "traceback": [
      "\u001b[1;31m---------------------------------------------------------------------------\u001b[0m",
      "\u001b[1;31mTypeError\u001b[0m                                 Traceback (most recent call last)",
      "\u001b[1;32md:\\PYTHON\\data_course\\3_basics_of_python\\2_part2\\part2_lecture.ipynb Cell 71'\u001b[0m in \u001b[0;36m<cell line: 2>\u001b[1;34m()\u001b[0m\n\u001b[0;32m      <a href='vscode-notebook-cell:/d%3A/PYTHON/data_course/3_basics_of_python/2_part2/part2_lecture.ipynb#ch0000189?line=0'>1</a>\u001b[0m number \u001b[39m=\u001b[39m \u001b[39minput\u001b[39m(\u001b[39m'\u001b[39m\u001b[39mGive me a number and I will add 5 to it for you: \u001b[39m\u001b[39m'\u001b[39m)\n\u001b[1;32m----> <a href='vscode-notebook-cell:/d%3A/PYTHON/data_course/3_basics_of_python/2_part2/part2_lecture.ipynb#ch0000189?line=1'>2</a>\u001b[0m \u001b[39mprint\u001b[39m(number \u001b[39m+\u001b[39;49m \u001b[39m5\u001b[39;49m)\n",
      "\u001b[1;31mTypeError\u001b[0m: can only concatenate str (not \"int\") to str"
     ]
    }
   ],
   "source": [
    "number = input('Give me a number and I will add 5 to it for you: ')\n",
    "print(number + 5)"
   ]
  },
  {
   "cell_type": "markdown",
   "metadata": {},
   "source": [
    "We already know that error. We have to cast the value we get into the type we want."
   ]
  },
  {
   "cell_type": "code",
   "execution_count": 132,
   "metadata": {},
   "outputs": [
    {
     "name": "stdout",
     "output_type": "stream",
     "text": [
      "10.0\n"
     ]
    }
   ],
   "source": [
    "number = input('Give me a number and I will add 5 to it for you: ')\n",
    "print(float(number) + 5)"
   ]
  },
  {
   "cell_type": "markdown",
   "metadata": {},
   "source": [
    "TODO: provide some bigger example before excercises"
   ]
  },
  {
   "cell_type": "markdown",
   "metadata": {},
   "source": [
    "We now know how to operate on numbers and strings, convert between types, format the output we print to the screen and take input from the users. We even know how to access parts of the string. Now lets take a look how else we can interact with them."
   ]
  },
  {
   "cell_type": "markdown",
   "metadata": {},
   "source": [
    "# Functions and methods"
   ]
  },
  {
   "cell_type": "markdown",
   "metadata": {},
   "source": [
    "## Functions"
   ]
  },
  {
   "cell_type": "markdown",
   "metadata": {},
   "source": [
    "Since the very beginning we where using few **functions** without specifing what they are and why we use them in this specific way.\n",
    "\n",
    "`print()` is a **function**, `int()`/`str()`/`float()`/`bool()` are a **functions** (sort off).\n",
    "\n",
    "Those are built-in **functions**, they are part of python language. There is a lot more of those for variouse purpose, but before we learn few of them lets talk what are **functions** and how to properly use them.\n",
    "\n",
    "**Functions** are pieces of code designed to do specific action, bundled into a single named package, that can be later accessed using that name. `print` does a lot of magic under the hood to allow us to print output of what we are doing to the screen, but we dont have to write all that low level code everytime we want to print something, we just use `print`.\n",
    "\n",
    "All functions are called by typing their name followed by `()` brackets. For some **functions** we can pass **parameters** inside those brackets. Each function has their own set of parameters, it can have none, it can have one, it can have many. Those **parameters** can be expected to be of specific type or any type.\n",
    "\n",
    "Functions can return a value that we can store or print or do whatever we want with it. Some functions, like `print`, do not return any value, they only perform some tasks.\n",
    "\n",
    "How should we know what kind of parameters function accepts? How should we know what a function does? How should we know what function return?\n",
    "\n",
    "If you are using Jupyter notebook you can access the help on a **function** by typing that **function's** name and presing `shift+tab`. It will show you that **function** signature (set of **parameters** it accepts) and its docstring: a text information describing its function. You can also use another **function** - `help()`, that will print the docstring of the function.\n"
   ]
  },
  {
   "cell_type": "code",
   "execution_count": 118,
   "metadata": {},
   "outputs": [
    {
     "name": "stdout",
     "output_type": "stream",
     "text": [
      "Help on built-in function print in module builtins:\n",
      "\n",
      "print(...)\n",
      "    print(value, ..., sep=' ', end='\\n', file=sys.stdout, flush=False)\n",
      "    \n",
      "    Prints the values to a stream, or to sys.stdout by default.\n",
      "    Optional keyword arguments:\n",
      "    file:  a file-like object (stream); defaults to the current sys.stdout.\n",
      "    sep:   string inserted between values, default a space.\n",
      "    end:   string appended after the last value, default a newline.\n",
      "    flush: whether to forcibly flush the stream.\n",
      "\n"
     ]
    }
   ],
   "source": [
    "help(print)"
   ]
  },
  {
   "cell_type": "markdown",
   "metadata": {},
   "source": [
    "We see now that `print` accepts more than just a values to be printed, it has other parameters. `sep` which by default is equal to space is character put between printed elements. So when we print 3 numbers those are separated by whatever `sep` value is provided:"
   ]
  },
  {
   "cell_type": "code",
   "execution_count": 119,
   "metadata": {},
   "outputs": [
    {
     "name": "stdout",
     "output_type": "stream",
     "text": [
      "1 2 3\n",
      "1-2-3\n"
     ]
    }
   ],
   "source": [
    "print(1,2,3)\n",
    "print(1,2,3, sep='-')"
   ]
  },
  {
   "cell_type": "markdown",
   "metadata": {},
   "source": [
    "`end` is the character(-s) placed at the end of printed text. It defaults to new line character (`\\n`). Lets see what happens when we change it:"
   ]
  },
  {
   "cell_type": "code",
   "execution_count": 120,
   "metadata": {},
   "outputs": [
    {
     "name": "stdout",
     "output_type": "stream",
     "text": [
      "1\n",
      "2\n",
      "3\n"
     ]
    }
   ],
   "source": [
    "print(1)\n",
    "print(2)\n",
    "print(3)"
   ]
  },
  {
   "cell_type": "code",
   "execution_count": 122,
   "metadata": {},
   "outputs": [
    {
     "name": "stdout",
     "output_type": "stream",
     "text": [
      "1*2&3!!!!!!"
     ]
    }
   ],
   "source": [
    "print(1, end='*')\n",
    "print(2, end='&')\n",
    "print(3, end='!!!!!!')"
   ]
  },
  {
   "cell_type": "markdown",
   "metadata": {},
   "source": [
    "When we replaced the `\\n` we no longer have each `print` result in separate line, which can sometimes be very usefull.\n",
    "\n",
    "`print` does not return any value, it just prints. But another function we used is another story: `input` return what user wrote in the prompt as its return value.\n",
    "\n",
    "Lets take a look at different function that returns a value - `len`\n"
   ]
  },
  {
   "cell_type": "code",
   "execution_count": 139,
   "metadata": {},
   "outputs": [
    {
     "name": "stdout",
     "output_type": "stream",
     "text": [
      "Help on built-in function len in module builtins:\n",
      "\n",
      "len(obj, /)\n",
      "    Return the number of items in a container.\n",
      "\n"
     ]
    }
   ],
   "source": [
    "help(len)"
   ]
  },
  {
   "cell_type": "markdown",
   "metadata": {},
   "source": [
    "We can use len the check how many characters are in a string or any other sequence-like object (we will talk about those later)"
   ]
  },
  {
   "cell_type": "code",
   "execution_count": 141,
   "metadata": {},
   "outputs": [
    {
     "name": "stdout",
     "output_type": "stream",
     "text": [
      "99\n"
     ]
    }
   ],
   "source": [
    "long_string = \"The Python interpreter has a number of functions and types built into it that are always available.\"\n",
    "length = len(long_string)\n",
    "print(length)"
   ]
  },
  {
   "cell_type": "markdown",
   "metadata": {},
   "source": [
    "Lets take a look at few other built-in functions that are usefull for us at this stage of the course. Feel free to play with them, inspect their arguments and see what they return:"
   ]
  },
  {
   "cell_type": "code",
   "execution_count": 150,
   "metadata": {},
   "outputs": [
    {
     "name": "stdout",
     "output_type": "stream",
     "text": [
      "10\n",
      "5\n"
     ]
    }
   ],
   "source": [
    "# return absolute value of a number\n",
    "print(abs(-10))\n",
    "print(abs(5))"
   ]
  },
  {
   "cell_type": "code",
   "execution_count": 151,
   "metadata": {},
   "outputs": [
    {
     "name": "stdout",
     "output_type": "stream",
     "text": [
      "10\n",
      "30\n"
     ]
    }
   ],
   "source": [
    "# get min/max of a set of numbers\n",
    "print(min(10, 20, 30))\n",
    "print(max(10, 20, 30))"
   ]
  },
  {
   "cell_type": "code",
   "execution_count": 160,
   "metadata": {},
   "outputs": [
    {
     "name": "stdout",
     "output_type": "stream",
     "text": [
      "Tom\n",
      "Adam\n"
     ]
    }
   ],
   "source": [
    "# it works on strings too\n",
    "print(max('Tom', 'Jerry', 'Adam'))\n",
    "print(min('Tom', 'Jerry', 'Adam'))"
   ]
  },
  {
   "cell_type": "code",
   "execution_count": 156,
   "metadata": {},
   "outputs": [
    {
     "name": "stdout",
     "output_type": "stream",
     "text": [
      "124\n",
      "124.0\n",
      "123.6\n",
      "123.57\n",
      "120.0\n",
      "100.0\n"
     ]
    }
   ],
   "source": [
    "# rounds a number to provided precision (defaults to integer rounding) but it can even round to tens, or hundreths with negative precision\n",
    "print(round(123.5725))\n",
    "print(round(123.5725, 0))\n",
    "print(round(123.5725, 1))\n",
    "print(round(123.5725, 2))\n",
    "print(round(123.5725, -1))\n",
    "print(round(123.5725, -2))\n"
   ]
  },
  {
   "cell_type": "code",
   "execution_count": 163,
   "metadata": {},
   "outputs": [
    {
     "name": "stdout",
     "output_type": "stream",
     "text": [
      "<class 'int'>\n",
      "<class 'float'>\n",
      "<class 'bool'>\n",
      "<class 'str'>\n"
     ]
    }
   ],
   "source": [
    "# type tells us what type is the value\n",
    "print(type(123))\n",
    "print(type(123.4))\n",
    "print(type(False))\n",
    "print(type('123'))\n"
   ]
  },
  {
   "cell_type": "markdown",
   "metadata": {},
   "source": [
    "TODO: add some examples before excercises"
   ]
  },
  {
   "cell_type": "markdown",
   "metadata": {},
   "source": [
    "We played a little with some functions, now lets look at very similar concept - methods"
   ]
  },
  {
   "cell_type": "markdown",
   "metadata": {},
   "source": [
    "## Methods"
   ]
  },
  {
   "cell_type": "markdown",
   "metadata": {},
   "source": [
    "**Methods** are functions attached to specific object, like a number or a string.\n",
    "\n",
    "Before explaining furter lets take a look at example:"
   ]
  },
  {
   "cell_type": "code",
   "execution_count": 164,
   "metadata": {},
   "outputs": [
    {
     "data": {
      "text/plain": [
       "'THIS WHAS TYPED USING LOWER CASE'"
      ]
     },
     "execution_count": 164,
     "metadata": {},
     "output_type": "execute_result"
    }
   ],
   "source": [
    "'this whas typed using lower case'.upper()"
   ]
  },
  {
   "cell_type": "markdown",
   "metadata": {},
   "source": [
    "**Methods** are called by placing a dot `.` followed by **method** name, `upper()` in this example."
   ]
  },
  {
   "cell_type": "code",
   "execution_count": 169,
   "metadata": {},
   "outputs": [
    {
     "name": "stdout",
     "output_type": "stream",
     "text": [
      "Help on built-in function upper:\n",
      "\n",
      "upper() method of builtins.str instance\n",
      "    Return a copy of the string converted to uppercase.\n",
      "\n"
     ]
    }
   ],
   "source": [
    "help('some string'.upper)"
   ]
  },
  {
   "cell_type": "markdown",
   "metadata": {},
   "source": [
    "**Methods** are functions, they are just attached to specific object and actions and return values they produce are usually linked in some way to this specific object. In example of `str.upper()` it produced a new version of our string with all letters replaced by their upper case versions.\n",
    "\n",
    "To see what type of **methods** are available for an object just type it with a dot `.` and press `tab`, depending on the tool you are using you should get list of methods (and other properties of the object)"
   ]
  },
  {
   "cell_type": "markdown",
   "metadata": {},
   "source": [
    "While numbers dont have many usefull **methods** in everyday use cases, strings on the other hand have tons of usefull **methods** that can change the string, search within a string, test something about that string and many other. Here are just a few examples:"
   ]
  },
  {
   "cell_type": "code",
   "execution_count": 179,
   "metadata": {},
   "outputs": [],
   "source": [
    "name = 'my name is Marcin'"
   ]
  },
  {
   "cell_type": "code",
   "execution_count": 180,
   "metadata": {},
   "outputs": [
    {
     "data": {
      "text/plain": [
       "'My name is marcin'"
      ]
     },
     "execution_count": 180,
     "metadata": {},
     "output_type": "execute_result"
    }
   ],
   "source": [
    "# replace the first letter with capital letter\n",
    "name.capitalize()"
   ]
  },
  {
   "cell_type": "code",
   "execution_count": 182,
   "metadata": {},
   "outputs": [
    {
     "data": {
      "text/plain": [
       "'my name is Martinez'"
      ]
     },
     "execution_count": 182,
     "metadata": {},
     "output_type": "execute_result"
    }
   ],
   "source": [
    "# replace part of string with another\n",
    "name.replace('cin', 'tinez')"
   ]
  },
  {
   "cell_type": "code",
   "execution_count": 189,
   "metadata": {},
   "outputs": [
    {
     "data": {
      "text/plain": [
       "True"
      ]
     },
     "execution_count": 189,
     "metadata": {},
     "output_type": "execute_result"
    }
   ],
   "source": [
    "# test if string ends with specific another string\n",
    "name.endswith('cin')"
   ]
  },
  {
   "cell_type": "markdown",
   "metadata": {},
   "source": [
    "TODO: some examples to play with before excercise"
   ]
  },
  {
   "cell_type": "markdown",
   "metadata": {},
   "source": [
    "# Extra - more formating tricks"
   ]
  },
  {
   "cell_type": "markdown",
   "metadata": {},
   "source": [
    "We can decide what width the text have to take and how its aligned, allowing us for example to make decently looking tables"
   ]
  },
  {
   "cell_type": "code",
   "execution_count": 105,
   "metadata": {},
   "outputs": [
    {
     "name": "stdout",
     "output_type": "stream",
     "text": [
      "----------------------------------\n",
      "|leg_a     |     leg_b|   hypo   |\n",
      "----------------------------------\n",
      "|10.0      |    5000.0|  5000.0  |\n",
      "|20.0      |     100.0|  102.0   |\n",
      "|5.0       |      25.0|   25.5   |\n",
      "|1000.6    |       0.7|  1000.6  |\n",
      "----------------------------------\n"
     ]
    }
   ],
   "source": [
    "#each column will have at least width of 10 characters\n",
    "#1st column aligned to left\n",
    "#2nd columng to the right\n",
    "#3rd centered\n",
    "\n",
    "print('-'*34)\n",
    "print(f'|{\"leg_a\":<10}|{\"leg_b\":>10}|{\"hypo\":^10}|')\n",
    "print('-'*34)\n",
    "print(f'|{10:<10.1f}|{5000:>10.1f}|{5000.00999:^10.1f}|')\n",
    "print(f'|{20:<10.1f}|{100:>10.1f}|{101.980390:^10.1f}|')\n",
    "print(f'|{5:<10.1f}|{25:>10.1f}|{25.495097:^10.1f}|')\n",
    "print(f'|{1000.58:<10.1f}|{0.73:>10.1f}|{1000.580266:^10.1f}|')\n",
    "print('-'*34)"
   ]
  },
  {
   "cell_type": "code",
   "execution_count": 106,
   "metadata": {},
   "outputs": [
    {
     "name": "stdout",
     "output_type": "stream",
     "text": [
      "----------------------------------\n",
      "|this is leg_a|this is leg_b|this is hypotenuse|\n",
      "----------------------------------\n"
     ]
    }
   ],
   "source": [
    "# but if length of resulting text is longer it will no longer look so good, \n",
    "# as size designtaion does not cut the string, only make sure it will take AT LEAST that many characters\n",
    "\n",
    "print('-'*34)\n",
    "print(f'|{\"this is leg_a\":<10}|{\"this is leg_b\":>10}|{\"this is hypotenuse\":^10}|')\n",
    "print('-'*34)"
   ]
  },
  {
   "cell_type": "markdown",
   "metadata": {},
   "source": [
    "What if we want allow our user to create template string that we will only fill with values? Thats where we have to go back to `.format` way of formatting strings. In a way its very similar to `f-string`:"
   ]
  },
  {
   "cell_type": "code",
   "execution_count": 96,
   "metadata": {},
   "outputs": [
    {
     "name": "stdout",
     "output_type": "stream",
     "text": [
      "Given two triangle legs of length 10 and 20 hypotenuse length is 22.360679774997898\n",
      "Given two triangle legs of length 10 and 20 hypotenuse length is 22.360679774997898\n"
     ]
    }
   ],
   "source": [
    "leg_a = 10\n",
    "leg_b = 20\n",
    "hypotenuse = (leg_a ** 2 + leg_b ** 2) ** 0.5\n",
    "print(f\"Given two triangle legs of length {leg_a} and {leg_b} hypotenuse length is {hypotenuse}\")\n",
    "print(\"Given two triangle legs of length {} and {} hypotenuse length is {}\".format(leg_a, leg_b, hypotenuse))"
   ]
  },
  {
   "cell_type": "markdown",
   "metadata": {},
   "source": [
    "Here we dont use `f` in front of string but instead we access string `.format()` method.\n",
    "\n",
    "As parameters of this method we pass comma separated values we want to include in the string:\n",
    "\n",
    "`.format(leg_a, leg_b, hypothenuse)`\n",
    "\n",
    "They will fill the `{}` in the string in the same order.\n",
    "\n",
    "You can also specife names for those values in the string, and then refer to those names in format method:"
   ]
  },
  {
   "cell_type": "code",
   "execution_count": 88,
   "metadata": {},
   "outputs": [
    {
     "name": "stdout",
     "output_type": "stream",
     "text": [
      "Given two triangle legs of length 10 and 20 hypothenuse length is 22.360679774997898\n"
     ]
    }
   ],
   "source": [
    "print(\"Given two triangle legs of length {a} and {b} hypotenuse length is {h}\".format(a=leg_a, b=leg_b, h=hypotenuse))"
   ]
  },
  {
   "cell_type": "markdown",
   "metadata": {},
   "source": [
    "We can also use formatting specifications:"
   ]
  },
  {
   "cell_type": "code",
   "execution_count": 97,
   "metadata": {},
   "outputs": [
    {
     "name": "stdout",
     "output_type": "stream",
     "text": [
      "Given two triangle legs of length 10.0 and 20.0 hypotenuse length is 22.361\n"
     ]
    }
   ],
   "source": [
    "print(\"Given two triangle legs of length {a:.1f} and {b:.1f} hypotenuse length is {h:.3f}\".format(a=leg_a, b=leg_b, h=hypotenuse))"
   ]
  },
  {
   "cell_type": "markdown",
   "metadata": {},
   "source": [
    "So lets assume that our user is providing us with a string containing `{}` placeholders but with text part translated to their language:"
   ]
  },
  {
   "cell_type": "code",
   "execution_count": 107,
   "metadata": {},
   "outputs": [],
   "source": [
    "english = \"Given two triangle legs of length a={a:.1f}cm and b={b:.1f}cm hypotenuse length is {h:.3f}cm\"\n",
    "polish = \"Znając długość dwóch przyprostokątnych a={a:.1f}cm oraz b={b:.1f}cm długość przeciwprostokątnej wynosi {h:.3f}cm\"\n"
   ]
  },
  {
   "cell_type": "markdown",
   "metadata": {},
   "source": [
    "If we want to print this with the filled parts we have to use `.format()`:"
   ]
  },
  {
   "cell_type": "code",
   "execution_count": 108,
   "metadata": {},
   "outputs": [
    {
     "name": "stdout",
     "output_type": "stream",
     "text": [
      "Given two triangle legs of length a=10.0cm and b=20.0cm hypotenuse length is 22.361cm\n",
      "Znając długość dwóch przyprostokątnych a=10.0cm oraz b=20.0cm długość przeciwprostokątnej wynosi 22.361cm\n"
     ]
    }
   ],
   "source": [
    "print(english.format(a=leg_a, b=leg_b, h=hypotenuse))\n",
    "print(polish.format(a=leg_a, b=leg_b, h=hypotenuse))"
   ]
  },
  {
   "cell_type": "markdown",
   "metadata": {},
   "source": [
    "# Extra - reading error messages"
   ]
  },
  {
   "cell_type": "code",
   "execution_count": null,
   "metadata": {},
   "outputs": [],
   "source": []
  },
  {
   "cell_type": "code",
   "execution_count": null,
   "metadata": {},
   "outputs": [],
   "source": []
  },
  {
   "cell_type": "code",
   "execution_count": null,
   "metadata": {},
   "outputs": [],
   "source": []
  },
  {
   "cell_type": "code",
   "execution_count": null,
   "metadata": {},
   "outputs": [],
   "source": []
  },
  {
   "cell_type": "code",
   "execution_count": null,
   "metadata": {},
   "outputs": [],
   "source": []
  },
  {
   "cell_type": "markdown",
   "metadata": {},
   "source": []
  }
 ],
 "metadata": {
  "kernelspec": {
   "display_name": "Python 3.9.12 ('test')",
   "language": "python",
   "name": "python3"
  },
  "language_info": {
   "codemirror_mode": {
    "name": "ipython",
    "version": 3
   },
   "file_extension": ".py",
   "mimetype": "text/x-python",
   "name": "python",
   "nbconvert_exporter": "python",
   "pygments_lexer": "ipython3",
   "version": "3.9.12"
  },
  "orig_nbformat": 4,
  "vscode": {
   "interpreter": {
    "hash": "0d865dd1673af87ed45e898bb58eafce2b3b50f91894445f52d1ec83b620fc07"
   }
  }
 },
 "nbformat": 4,
 "nbformat_minor": 2
}
