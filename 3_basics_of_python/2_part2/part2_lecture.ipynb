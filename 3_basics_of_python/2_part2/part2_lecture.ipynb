{
 "cells": [
  {
   "cell_type": "markdown",
   "metadata": {},
   "source": [
    "# Working with text"
   ]
  },
  {
   "cell_type": "markdown",
   "metadata": {},
   "source": [
    "So far we worked mostly with numbers and the only time we used text was to just print something on screen with `print('some text goes here')`.\n",
    "\n",
    "Text type in Python (as in most programming languages) is called **String**\n",
    "\n",
    "If we want to use **Strings** in your code we have to always encapulate it with either `\"` or `'` quote signs."
   ]
  },
  {
   "cell_type": "code",
   "execution_count": 4,
   "metadata": {},
   "outputs": [
    {
     "data": {
      "text/plain": [
       "'this is text in single quotes'"
      ]
     },
     "execution_count": 4,
     "metadata": {},
     "output_type": "execute_result"
    }
   ],
   "source": [
    "'this is text in single quotes'"
   ]
  },
  {
   "cell_type": "code",
   "execution_count": 5,
   "metadata": {},
   "outputs": [
    {
     "data": {
      "text/plain": [
       "'this is text in double quotes'"
      ]
     },
     "execution_count": 5,
     "metadata": {},
     "output_type": "execute_result"
    }
   ],
   "source": [
    "\"this is text in double quotes\""
   ]
  },
  {
   "cell_type": "markdown",
   "metadata": {},
   "source": [
    "Does it matter which one we use? Only if we want to use that specific sign in the text itself - if you want to use `'` in your text than you use `\"` to encapsulate your **String**:"
   ]
  },
  {
   "cell_type": "code",
   "execution_count": 9,
   "metadata": {},
   "outputs": [
    {
     "data": {
      "text/plain": [
       "\"I don't have a car\""
      ]
     },
     "execution_count": 9,
     "metadata": {},
     "output_type": "execute_result"
    }
   ],
   "source": [
    "\"I don't have a car\""
   ]
  },
  {
   "cell_type": "code",
   "execution_count": 8,
   "metadata": {},
   "outputs": [
    {
     "data": {
      "text/plain": [
       "'I have read \"The Art of War\" recently'"
      ]
     },
     "execution_count": 8,
     "metadata": {},
     "output_type": "execute_result"
    }
   ],
   "source": [
    "'I have read \"The Art of War\" recently'"
   ]
  },
  {
   "cell_type": "markdown",
   "metadata": {},
   "source": [
    "What if we want to use both in text? We have to **escape** that sign which means annotate it that its not a limiting quote but just a regular quote sign we want to use in text.\n",
    "\n",
    "To espace a character we use `\\` backslash character."
   ]
  },
  {
   "cell_type": "code",
   "execution_count": 24,
   "metadata": {},
   "outputs": [
    {
     "name": "stdout",
     "output_type": "stream",
     "text": [
      "I havn't read \"The Art of War\" yet\n",
      "I havn't read \"The Art of War\" yet\n"
     ]
    }
   ],
   "source": [
    "print(\"I havn\\'t read \\\"The Art of War\\\" yet\")\n",
    "print('I havn\\'t read \\\"The Art of War\\\" yet')"
   ]
  },
  {
   "cell_type": "markdown",
   "metadata": {},
   "source": [
    "Lets see what we can do with **Strings**. What kind of \"arythmetic\" we can do on **Strings**?\n",
    "\n",
    "1. `+` - concatenate two strings together\n",
    "1. `*` - contatenate `x` copies of string to itself"
   ]
  },
  {
   "cell_type": "code",
   "execution_count": 31,
   "metadata": {},
   "outputs": [],
   "source": [
    "string_a = 'Test'\n",
    "string_b = 'String'"
   ]
  },
  {
   "cell_type": "code",
   "execution_count": 32,
   "metadata": {},
   "outputs": [
    {
     "data": {
      "text/plain": [
       "'TestString'"
      ]
     },
     "execution_count": 32,
     "metadata": {},
     "output_type": "execute_result"
    }
   ],
   "source": [
    "string_a + string_b"
   ]
  },
  {
   "cell_type": "code",
   "execution_count": 34,
   "metadata": {},
   "outputs": [
    {
     "data": {
      "text/plain": [
       "'Test String'"
      ]
     },
     "execution_count": 34,
     "metadata": {},
     "output_type": "execute_result"
    }
   ],
   "source": [
    "string_a + ' ' + string_b"
   ]
  },
  {
   "cell_type": "code",
   "execution_count": 33,
   "metadata": {},
   "outputs": [
    {
     "data": {
      "text/plain": [
       "'TestTestTestTestTest'"
      ]
     },
     "execution_count": 33,
     "metadata": {},
     "output_type": "execute_result"
    }
   ],
   "source": [
    "string_a * 5"
   ]
  },
  {
   "cell_type": "markdown",
   "metadata": {},
   "source": [
    "We can compare strings. Comparison on strings is done using lexicographical ordering, which pretty much means compare them one character at the time, untill the strings are exhausted and ordering is defined using Unicode values for that character.\n",
    "\n",
    "**Note: Unicode values for lowercase characters are ordered higher than upper case, so for example `a` is considered larger than both `A` and `Z`. So you have to make sure your use case make sense with such comparison if you are trying to deduce if alphbetically some string is after or before another (for example - when sorting).**\n",
    "\n",
    "Testing for `==` equality / `!=` ineaquality this will produce proper results."
   ]
  },
  {
   "cell_type": "code",
   "execution_count": 46,
   "metadata": {},
   "outputs": [
    {
     "name": "stdout",
     "output_type": "stream",
     "text": [
      "True\n",
      "False\n",
      "False\n",
      "False\n",
      "True\n",
      "True\n"
     ]
    }
   ],
   "source": [
    "print('a' <= 'b')\n",
    "print('aaaaa' > 'b')\n",
    "print('Alphabet' > 'Apple')\n",
    "print('a' == 'A')\n",
    "print('B' < 'b')\n",
    "print(string_a != string_b)"
   ]
  },
  {
   "cell_type": "markdown",
   "metadata": {},
   "source": [
    "With strings we can introduce new type of comparison operators: `in` and `not`\n",
    "\n",
    "`X in Y` tests if `X` is part of `Y`. For strings it looks trough entire string `Y` and checks if string `X` is a substring of `Y`. Its is case sensitive.\n",
    "\n",
    "`not` operator is general negation operator that can be placed before any other boolean statement and reverse its value. It can be used in conjunction with `in` as `X not in Y` to test if `X` is not in `Y`. We will get the same results if we use `not X in Y`.\n",
    "\n",
    "`in` operator if calculated in the same time other copmarison are calculatd (so after any arythmetic operations).\n",
    "\n",
    "`not` operator is calculated after the comparison operators"
   ]
  },
  {
   "cell_type": "code",
   "execution_count": 48,
   "metadata": {},
   "outputs": [
    {
     "name": "stdout",
     "output_type": "stream",
     "text": [
      "True\n",
      "True\n",
      "False\n",
      "True\n"
     ]
    }
   ],
   "source": [
    "print('T' in 'Test')\n",
    "print('e' in 'Test')\n",
    "print('E' in 'Test')\n",
    "print('Tes' in 'Test')"
   ]
  },
  {
   "cell_type": "code",
   "execution_count": 49,
   "metadata": {},
   "outputs": [
    {
     "name": "stdout",
     "output_type": "stream",
     "text": [
      "False\n",
      "False\n",
      "True\n",
      "False\n"
     ]
    }
   ],
   "source": [
    "print('T' not in 'Test')\n",
    "print('e' not in 'Test')\n",
    "print('E' not in 'Test')\n",
    "print('Tes' not in 'Test')"
   ]
  },
  {
   "cell_type": "code",
   "execution_count": 50,
   "metadata": {},
   "outputs": [
    {
     "name": "stdout",
     "output_type": "stream",
     "text": [
      "False\n",
      "False\n",
      "True\n",
      "False\n"
     ]
    }
   ],
   "source": [
    "print(not 'T' in 'Test')\n",
    "print(not 'e' in 'Test')\n",
    "print(not 'E' in 'Test')\n",
    "print(not 'Tes' in 'Test')"
   ]
  },
  {
   "cell_type": "code",
   "execution_count": null,
   "metadata": {},
   "outputs": [],
   "source": []
  }
 ],
 "metadata": {
  "kernelspec": {
   "display_name": "Python 3.9.12 ('test')",
   "language": "python",
   "name": "python3"
  },
  "language_info": {
   "codemirror_mode": {
    "name": "ipython",
    "version": 3
   },
   "file_extension": ".py",
   "mimetype": "text/x-python",
   "name": "python",
   "nbconvert_exporter": "python",
   "pygments_lexer": "ipython3",
   "version": "3.9.12"
  },
  "orig_nbformat": 4,
  "vscode": {
   "interpreter": {
    "hash": "0d865dd1673af87ed45e898bb58eafce2b3b50f91894445f52d1ec83b620fc07"
   }
  }
 },
 "nbformat": 4,
 "nbformat_minor": 2
}
