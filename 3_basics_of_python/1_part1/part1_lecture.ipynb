{
 "cells": [
  {
   "cell_type": "markdown",
   "metadata": {},
   "source": [
    "# Numbers and basic arythmetic"
   ]
  },
  {
   "cell_type": "markdown",
   "metadata": {},
   "source": [
    "Lets start with some numbers.\n",
    "\n",
    "Python have two basic number types:\n",
    "\n",
    "1. Integers\n",
    "1. Floats (decimal numbers)"
   ]
  },
  {
   "cell_type": "code",
   "execution_count": 1,
   "metadata": {},
   "outputs": [
    {
     "data": {
      "text/plain": [
       "123"
      ]
     },
     "execution_count": 1,
     "metadata": {},
     "output_type": "execute_result"
    }
   ],
   "source": [
    "123"
   ]
  },
  {
   "cell_type": "code",
   "execution_count": 3,
   "metadata": {},
   "outputs": [
    {
     "data": {
      "text/plain": [
       "123.4"
      ]
     },
     "execution_count": 3,
     "metadata": {},
     "output_type": "execute_result"
    }
   ],
   "source": [
    "123.4"
   ]
  },
  {
   "cell_type": "markdown",
   "metadata": {},
   "source": [
    "We can run basic arythmetic opeartions on those numbers using mathematical operators:\n",
    "\n",
    "1. `+` addition\n",
    "1. `-` substraction\n",
    "1. `*` multiplication\n",
    "1. `/` division\n",
    "1. `%` reminder division\n",
    "1. `**` power\n",
    "1. `//` division with no remainder"
   ]
  },
  {
   "cell_type": "code",
   "execution_count": 4,
   "metadata": {},
   "outputs": [
    {
     "data": {
      "text/plain": [
       "35"
      ]
     },
     "execution_count": 4,
     "metadata": {},
     "output_type": "execute_result"
    }
   ],
   "source": [
    "12 + 23"
   ]
  },
  {
   "cell_type": "code",
   "execution_count": 5,
   "metadata": {},
   "outputs": [
    {
     "data": {
      "text/plain": [
       "-11"
      ]
     },
     "execution_count": 5,
     "metadata": {},
     "output_type": "execute_result"
    }
   ],
   "source": [
    "12 - 23"
   ]
  },
  {
   "cell_type": "code",
   "execution_count": 6,
   "metadata": {},
   "outputs": [
    {
     "data": {
      "text/plain": [
       "36"
      ]
     },
     "execution_count": 6,
     "metadata": {},
     "output_type": "execute_result"
    }
   ],
   "source": [
    "12 * 3"
   ]
  },
  {
   "cell_type": "code",
   "execution_count": 13,
   "metadata": {},
   "outputs": [
    {
     "data": {
      "text/plain": [
       "2.5"
      ]
     },
     "execution_count": 13,
     "metadata": {},
     "output_type": "execute_result"
    }
   ],
   "source": [
    "5 / 2"
   ]
  },
  {
   "cell_type": "code",
   "execution_count": 8,
   "metadata": {},
   "outputs": [
    {
     "data": {
      "text/plain": [
       "1"
      ]
     },
     "execution_count": 8,
     "metadata": {},
     "output_type": "execute_result"
    }
   ],
   "source": [
    "5 % 2"
   ]
  },
  {
   "cell_type": "code",
   "execution_count": 9,
   "metadata": {},
   "outputs": [
    {
     "data": {
      "text/plain": [
       "64"
      ]
     },
     "execution_count": 9,
     "metadata": {},
     "output_type": "execute_result"
    }
   ],
   "source": [
    "2 ** 6"
   ]
  },
  {
   "cell_type": "code",
   "execution_count": 12,
   "metadata": {},
   "outputs": [
    {
     "data": {
      "text/plain": [
       "2"
      ]
     },
     "execution_count": 12,
     "metadata": {},
     "output_type": "execute_result"
    }
   ],
   "source": [
    "5 // 2"
   ]
  },
  {
   "cell_type": "markdown",
   "metadata": {},
   "source": [
    "Notice that when we run `12 / 3` we got a **Float** as a results `4.0` instead of **Integer** `4`. Division will always return **Float** as a result.\n",
    "\n",
    "Also take a look what happens if we mix **Integers** and **Floats**"
   ]
  },
  {
   "cell_type": "code",
   "execution_count": 11,
   "metadata": {},
   "outputs": [
    {
     "data": {
      "text/plain": [
       "35.0"
      ]
     },
     "execution_count": 11,
     "metadata": {},
     "output_type": "execute_result"
    }
   ],
   "source": [
    "12 + 23.0"
   ]
  },
  {
   "cell_type": "markdown",
   "metadata": {},
   "source": [
    "We got Float even though we did not need decimals. If we use Float as part of operation we can excpect float as result. Even if the result should be whole number"
   ]
  },
  {
   "cell_type": "code",
   "execution_count": 17,
   "metadata": {},
   "outputs": [
    {
     "data": {
      "text/plain": [
       "3.0"
      ]
     },
     "execution_count": 17,
     "metadata": {},
     "output_type": "execute_result"
    }
   ],
   "source": [
    "12 // 3.5"
   ]
  },
  {
   "cell_type": "markdown",
   "metadata": {},
   "source": [
    "We dont have to limit ourselfs to single command in each cell, lets spice it up a bit:"
   ]
  },
  {
   "cell_type": "code",
   "execution_count": 19,
   "metadata": {},
   "outputs": [
    {
     "data": {
      "text/plain": [
       "1"
      ]
     },
     "execution_count": 19,
     "metadata": {},
     "output_type": "execute_result"
    }
   ],
   "source": [
    "1 + 1\n",
    "2 * 2\n",
    "5 / 3\n",
    "25 % 2"
   ]
  },
  {
   "cell_type": "markdown",
   "metadata": {},
   "source": [
    "Hmmmm, we only got single result from that cell... Not what we wanted. \n",
    "\n",
    "Thats normal. Jupyter will only output last result from a given cell. While we can change that behavior its not the correct approach. In general you should try to learn to print out the result you want yourself, using Python's built-in `print()` function."
   ]
  },
  {
   "cell_type": "code",
   "execution_count": 20,
   "metadata": {},
   "outputs": [
    {
     "name": "stdout",
     "output_type": "stream",
     "text": [
      "2\n",
      "4\n",
      "1.6666666666666667\n",
      "1\n"
     ]
    }
   ],
   "source": [
    "print(1 + 1)\n",
    "print(2 * 2)\n",
    "print(5 / 3)\n",
    "print(25 % 2)"
   ]
  },
  {
   "cell_type": "markdown",
   "metadata": {},
   "source": [
    "Now we are talking. As long as we work in Jupyter we benefit from this default behaviour of automaticly printing output of a cell, but once we move to writing cohesive `.py` scripts it will no longer be the case and we have to exlicitly decide what should be printed for user and what not."
   ]
  },
  {
   "cell_type": "markdown",
   "metadata": {},
   "source": [
    "We can also print multiple things in single functions as it accepts arbitrary list of inputs separated by `,` comma."
   ]
  },
  {
   "cell_type": "code",
   "execution_count": 21,
   "metadata": {},
   "outputs": [
    {
     "name": "stdout",
     "output_type": "stream",
     "text": [
      "20 18.333333333333332 49\n"
     ]
    }
   ],
   "source": [
    "print(20, 55 / 3, 7 ** 2)"
   ]
  },
  {
   "cell_type": "markdown",
   "metadata": {},
   "source": [
    "We will soon learn how to better control the output of print statements and to mix them with text to produce more verbose output for our users."
   ]
  },
  {
   "cell_type": "markdown",
   "metadata": {},
   "source": [
    "Lets see how Python behaves behaves when we start to mix arythmetic operators in single command"
   ]
  },
  {
   "cell_type": "code",
   "execution_count": 30,
   "metadata": {},
   "outputs": [
    {
     "data": {
      "text/plain": [
       "18.0"
      ]
     },
     "execution_count": 30,
     "metadata": {},
     "output_type": "execute_result"
    }
   ],
   "source": [
    "10 + 20 * 2 / 5"
   ]
  },
  {
   "cell_type": "markdown",
   "metadata": {},
   "source": [
    "Looking at the result hopefully we can deduce what happened. Python first multiplied `20 * 2`, so thats `40`. Than divided by \n",
    "`5` resulting in `8` and finally added `10` giving us the answer `18.0`.\n",
    "\n",
    "Python follow **PEMDAS** order of operations:\n",
    "\n",
    "    P – Parentheses.\n",
    "    E – Exponentiation.\n",
    "    M – Multiplication.\n",
    "    D – Division.\n",
    "    A – Addition.\n",
    "    S – Subtraction."
   ]
  },
  {
   "cell_type": "markdown",
   "metadata": {},
   "source": [
    "If we want to change the default order we have to use `()` parenthesis:"
   ]
  },
  {
   "cell_type": "code",
   "execution_count": 31,
   "metadata": {},
   "outputs": [
    {
     "data": {
      "text/plain": [
       "12.0"
      ]
     },
     "execution_count": 31,
     "metadata": {},
     "output_type": "execute_result"
    }
   ],
   "source": [
    "(10 + 20) * (2 / 5)"
   ]
  },
  {
   "cell_type": "markdown",
   "metadata": {},
   "source": [
    "# Variables"
   ]
  },
  {
   "cell_type": "markdown",
   "metadata": {},
   "source": [
    "Now typing all those numbers is boring. Especially if there are numbers important for our program and we use them all the time. We want to store this number into a **Variable** by giving it a name: "
   ]
  },
  {
   "cell_type": "code",
   "execution_count": 26,
   "metadata": {},
   "outputs": [],
   "source": [
    "my_1st_variable = 3.1415"
   ]
  },
  {
   "cell_type": "code",
   "execution_count": 27,
   "metadata": {},
   "outputs": [
    {
     "data": {
      "text/plain": [
       "3.1415"
      ]
     },
     "execution_count": 27,
     "metadata": {},
     "output_type": "execute_result"
    }
   ],
   "source": [
    "my_1st_variable"
   ]
  },
  {
   "cell_type": "markdown",
   "metadata": {},
   "source": [
    "Notice that we can now access the name we gave that number as if it was that number. This name is available in every part of the program now, even outside of the cell we created it. We should also point out that there limitations on what kind of name we can give and also some conventions on how we should name our **Variables**:\n",
    "\n",
    "1. It have to start with a letter (a-z A-Z)\n",
    "1. It can contain digits and `_` underscore\n",
    "1. It *should* in general be lowercase (this is by convention, and later we will learn when you want to use all capitals for variables)\n",
    "1. Name of variable *should* represent its content for someone reading your code, so name like `my_1st_variable` are not good names"
   ]
  },
  {
   "cell_type": "markdown",
   "metadata": {},
   "source": [
    "So with that knowledge in mind lets solve some simple textbook arythmetic using variables:"
   ]
  },
  {
   "cell_type": "code",
   "execution_count": 33,
   "metadata": {},
   "outputs": [
    {
     "name": "stdout",
     "output_type": "stream",
     "text": [
      "43.981\n",
      "153.9335\n"
     ]
    }
   ],
   "source": [
    "pi = 3.1415\n",
    "r = 7\n",
    "circumference_of_circle = 2 * pi * r\n",
    "print(circumference_of_circle)\n",
    "area_of_circle = pi * r ** 2\n",
    "print(area_of_circle)"
   ]
  },
  {
   "cell_type": "markdown",
   "metadata": {},
   "source": [
    "Once you create your variables suddenly it no longer looks like a random bunch of numbers and operators but a specific solution to a question or a problem that our program is designed to solve. We are no longer working with just numbers, those numbers represent concepts that can be understood by someone looking at your code.\n",
    "\n",
    "This is very imporant and I will try to hammer that from the very beggining into your brains. Code have to be readable by someone that will later have to change it or check for bugs or simply understand what it does."
   ]
  },
  {
   "cell_type": "markdown",
   "metadata": {},
   "source": [
    "# Comments"
   ]
  },
  {
   "cell_type": "markdown",
   "metadata": {},
   "source": [
    "We can help to clarify when things may not be super clear by using comments in your code:"
   ]
  },
  {
   "cell_type": "code",
   "execution_count": 44,
   "metadata": {},
   "outputs": [],
   "source": [
    "# Hey I'm a comment\n",
    "# I start with a # sign\n",
    "# We can use comments to clarify what our code does"
   ]
  },
  {
   "cell_type": "code",
   "execution_count": 52,
   "metadata": {},
   "outputs": [
    {
     "name": "stdout",
     "output_type": "stream",
     "text": [
      "10\n",
      "30\n"
     ]
    }
   ],
   "source": [
    "# Only uncommented parts of cell are executed\n",
    "print(10)\n",
    "# print(20)\n",
    "print(30)\n",
    "# We can use comments to turn off specific line(s) of cell code\n",
    "# by default jupyter will comment / un-comment selected line of cell when we press `Ctrl + /` shortcut"
   ]
  },
  {
   "cell_type": "code",
   "execution_count": 49,
   "metadata": {},
   "outputs": [
    {
     "name": "stdout",
     "output_type": "stream",
     "text": [
      "21.0\n"
     ]
    }
   ],
   "source": [
    "# area of a triangle\n",
    "base = 6\n",
    "height = 7\n",
    "area = height * base * 0.5\n",
    "print(area)"
   ]
  },
  {
   "cell_type": "markdown",
   "metadata": {},
   "source": [
    "We can also add coments at the end of line of code:"
   ]
  },
  {
   "cell_type": "code",
   "execution_count": 50,
   "metadata": {},
   "outputs": [
    {
     "name": "stdout",
     "output_type": "stream",
     "text": [
      "21.0\n"
     ]
    }
   ],
   "source": [
    "# area of a triangle\n",
    "base = 6 # lenght of base in cm\n",
    "height = 7 # trangle height in cm\n",
    "area = height * base * 0.5\n",
    "print(area)"
   ]
  },
  {
   "cell_type": "markdown",
   "metadata": {},
   "source": [
    "We should not overuse comments in that way though. Focus on selecting proper variable names and add comments when needed. Not every line needs its own expanation. Code should be self explanatory. You will find your own balance in time, or someone doing code review for you will do it for you the hard way :)"
   ]
  },
  {
   "cell_type": "markdown",
   "metadata": {},
   "source": [
    "# Comparison and If-Else statements"
   ]
  },
  {
   "cell_type": "markdown",
   "metadata": {},
   "source": [
    "In virually every program you will have to check if some condition is `True` or `False`. We use **comparison** operators for that:\n",
    "\n",
    "1. `==` check for equality\n",
    "1. `!=` check for inequality\n",
    "1. `>` check if a is greater than b\n",
    "1. `>=` check if a is greater than or equal to b\n",
    "1. `<` check if a is less than b\n",
    "1. `<=` check if a is less than or equal to b\n",
    "\n",
    "Result of **comparison** is always either `True` or `False`. Python have built-in type for `True/False` values called **bool** from [Boolean algebra](https://en.wikipedia.org/wiki/Boolean_algebra). \n",
    "\n",
    "Below there are few examples, you are free to try more.\n"
   ]
  },
  {
   "cell_type": "code",
   "execution_count": 60,
   "metadata": {},
   "outputs": [
    {
     "data": {
      "text/plain": [
       "True"
      ]
     },
     "execution_count": 60,
     "metadata": {},
     "output_type": "execute_result"
    }
   ],
   "source": [
    "20 > 10"
   ]
  },
  {
   "cell_type": "code",
   "execution_count": 61,
   "metadata": {},
   "outputs": [
    {
     "data": {
      "text/plain": [
       "False"
      ]
     },
     "execution_count": 61,
     "metadata": {},
     "output_type": "execute_result"
    }
   ],
   "source": [
    "13 == 12"
   ]
  },
  {
   "cell_type": "code",
   "execution_count": 65,
   "metadata": {},
   "outputs": [
    {
     "data": {
      "text/plain": [
       "False"
      ]
     },
     "execution_count": 65,
     "metadata": {},
     "output_type": "execute_result"
    }
   ],
   "source": [
    "13 > area_of_circle"
   ]
  },
  {
   "cell_type": "code",
   "execution_count": 67,
   "metadata": {},
   "outputs": [
    {
     "data": {
      "text/plain": [
       "True"
      ]
     },
     "execution_count": 67,
     "metadata": {},
     "output_type": "execute_result"
    }
   ],
   "source": [
    "area_of_circle != area"
   ]
  },
  {
   "cell_type": "markdown",
   "metadata": {},
   "source": [
    "We can use those condition operators to test for conditions and depending on the results execute diffrent code or even skip execution altogether. For that we can use `if ... else` statements:"
   ]
  },
  {
   "cell_type": "code",
   "execution_count": 70,
   "metadata": {},
   "outputs": [
    {
     "name": "stdout",
     "output_type": "stream",
     "text": [
      "odd\n"
     ]
    }
   ],
   "source": [
    "# check if input is even or odd and print it out\n",
    "input = 7\n",
    "\n",
    "if input % 2 == 0:\n",
    "    print('even')\n",
    "else:\n",
    "    print('odd')\n"
   ]
  },
  {
   "cell_type": "markdown",
   "metadata": {},
   "source": [
    "Lets break it down:\n",
    "\n",
    "First we set our `input` variable to some value (feel free to change the number and rerun to code to check how it behave). \n",
    "\n",
    "Than we start the `if` statement followed by our comparisson. Note that we are both making calculation and comparison in single part of code. Comparison operators are calculated after all arythmetic stuff is done, so in this case we dont have to worry about parenthesis. We finish the first line using `:` colon.\n",
    "\n",
    "Now in other programming languages you usually have some sort of binding syntax, usaully using curly brackets to denote whenre the block following `if` starts and ends. Python is using **Indentations** for that. Note that `print('even')` is **Indented** by 4 spaces (or 1 tab) compared to line above. This tells Python to treat whatever is **indented** as part of the block of code executed within that `if` statement.\n",
    "\n",
    "Everything inside this part of code will be execuded if and only if, the statement produce `True` (or a values equivalent to `true` - sometimes called `Truthy`)\n",
    "\n",
    "Than we have `else:`. Note that we are back to the original non indented code now. Its important to keep both `if` and `else:` lines at the same indentation level. In general python requires that all code to be at the same indentation level unless we are using neting structures (like `if`) and than that we keep the same level of indentation for all lines insode that nested structure.\n",
    "\n",
    "After `else:` we again go one level of indentation and write code block that will be run if first comparison produced `False` result (or rather `Falsy`).\n",
    "\n",
    "Lets try to hammer it down with more complex example:"
   ]
  },
  {
   "cell_type": "code",
   "execution_count": 74,
   "metadata": {},
   "outputs": [
    {
     "name": "stdout",
     "output_type": "stream",
     "text": [
      "divisible by 5\n"
     ]
    }
   ],
   "source": [
    "input = 10\n",
    "\n",
    "if input % 3 == 0:\n",
    "    print ('divisible by 3')\n",
    "    if input % 5 == 0:\n",
    "        print('and also by 5')\n",
    "else:\n",
    "    if input % 5 == 0:\n",
    "        print ('divisible by 5')\n",
    "    else:\n",
    "        print('not divisible by neither 3 nor 5')\n"
   ]
  },
  {
   "cell_type": "markdown",
   "metadata": {},
   "source": [
    "Now we have multiple nested `if` statements. This is by far not the most optimal way of writing it, and in the next few cells we will show to do it more clearly but I wanted you to see the how we go deeper with each level of `if` and that we can nest this type of statemetns inside one another.\n",
    "\n",
    "Take a closer look that after finishing the block responsible for printing wherever or not the number was also divisible by 5 `print('and also by 5')` we are returning to the original indentation, or go back by 2 tabs (8 spaces) to the level of original `if`.\n",
    "\n",
    "Now how we can do it without nested `if`? First of all we can combine comparisons and we can have more than one condition check in `if`.\n",
    "\n",
    "Lets start with combining multiple comparisons into one `True/False` result:"
   ]
  },
  {
   "cell_type": "code",
   "execution_count": 78,
   "metadata": {},
   "outputs": [
    {
     "data": {
      "text/plain": [
       "True"
      ]
     },
     "execution_count": 78,
     "metadata": {},
     "output_type": "execute_result"
    }
   ],
   "source": [
    "# lets check if A is bigger than both B and C\n",
    "# as usuall feel free to change the values and rerun the cell to see how it behave\n",
    "a = 10\n",
    "b = 4\n",
    "c = 9\n",
    "\n",
    "a > b and a > c"
   ]
  },
  {
   "cell_type": "code",
   "execution_count": 80,
   "metadata": {},
   "outputs": [
    {
     "data": {
      "text/plain": [
       "True"
      ]
     },
     "execution_count": 80,
     "metadata": {},
     "output_type": "execute_result"
    }
   ],
   "source": [
    "# lets check if A is bigger than B or C\n",
    "# as usuall feel free to change the values and rerun the cell to see how it behave\n",
    "a = 10\n",
    "b = 11\n",
    "c = 9\n",
    "\n",
    "a > b or a > c"
   ]
  },
  {
   "cell_type": "markdown",
   "metadata": {},
   "source": [
    "We can combine comparison operators with `and` and `or` opearators. They are calculated after copmarison opeartors so we dont have to worry about parenthesis in this example at least. `and` is being calculated before `or` so if you have to combine `and` and `or` in one larger expression and dont want `or` to be laculated last you ahve to use parenthesis:"
   ]
  },
  {
   "cell_type": "code",
   "execution_count": 87,
   "metadata": {},
   "outputs": [
    {
     "name": "stdout",
     "output_type": "stream",
     "text": [
      "True False\n"
     ]
    }
   ],
   "source": [
    "#lets check if A is bigger than B and B is bigger than C or D\n",
    "a = 1\n",
    "b = 3\n",
    "c = 4\n",
    "d = 2\n",
    "check_without_parentehsis = a > b and b > c or b > d\n",
    "check_with_parentehsis = a > b and (b > c or b > d)\n",
    "print(check_without_parentehsis, check_with_parentehsis)\n"
   ]
  },
  {
   "cell_type": "markdown",
   "metadata": {},
   "source": [
    "We can use those complex comparisons inside `if`:"
   ]
  },
  {
   "cell_type": "code",
   "execution_count": 92,
   "metadata": {},
   "outputs": [
    {
     "name": "stdout",
     "output_type": "stream",
     "text": [
      "Is A is bigger than B and B is bigger than C or D?\n",
      "No, it is not.\n"
     ]
    }
   ],
   "source": [
    "print('Is A is bigger than B and B is bigger than C or D?')\n",
    "a = 1\n",
    "b = 3\n",
    "c = 4\n",
    "d = 2\n",
    "if a > b and (b > c or b > d):\n",
    "    print('Yes, it is.')\n",
    "else:\n",
    "    print('No, it is not.')"
   ]
  },
  {
   "cell_type": "markdown",
   "metadata": {},
   "source": [
    "We can also test multiple conditions separatly inside `if` using `elif` statement:"
   ]
  },
  {
   "cell_type": "code",
   "execution_count": 96,
   "metadata": {},
   "outputs": [
    {
     "name": "stdout",
     "output_type": "stream",
     "text": [
      "nope, a bigger than b\n"
     ]
    }
   ],
   "source": [
    "# check if all numbers are in descending order\n",
    "a = 1\n",
    "b = 3\n",
    "c = 4\n",
    "d = 2\n",
    "if a > b:\n",
    "    print('nope, a bigger than b')\n",
    "elif b > c:\n",
    "    print('nope, b is bigger than c')\n",
    "elif c > d:\n",
    "    print('nope, c is bigger than d')\n",
    "else:\n",
    "    print('they are')\n"
   ]
  },
  {
   "cell_type": "markdown",
   "metadata": {},
   "source": [
    "`elif` allows us to test many diffrent conditions and crete diffrent branches of code depending on the results. Note that only the first `True` branch will be executed. So if both `a > b` and `b > c ` would be equal to `True`, only string `nope, a bigger than b` would be printed on screen.\n",
    "\n",
    "So lets go back to our division example:"
   ]
  },
  {
   "cell_type": "code",
   "execution_count": 98,
   "metadata": {},
   "outputs": [
    {
     "name": "stdout",
     "output_type": "stream",
     "text": [
      "divisible by 5\n"
     ]
    }
   ],
   "source": [
    "input = 10\n",
    "\n",
    "if input % 3 == 0 and input % 5 == 0:\n",
    "    print ('divisible by 3 and 5')\n",
    "elif input % 3 == 0:\n",
    "    print ('divisible by 3')\n",
    "elif input % 5 == 0:\n",
    "    print('divisible by 5')\n",
    "else:\n",
    "    print('not divisible by neither 3 nor 5')\n"
   ]
  },
  {
   "cell_type": "markdown",
   "metadata": {},
   "source": [
    "`if` does not need `else` statment if we dont care about the `False` scenario:"
   ]
  },
  {
   "cell_type": "code",
   "execution_count": 101,
   "metadata": {},
   "outputs": [
    {
     "name": "stdout",
     "output_type": "stream",
     "text": [
      "6\n"
     ]
    }
   ],
   "source": [
    "# test if input is odd, if yes add 1\n",
    "input = 6\n",
    "\n",
    "if input % 2 == 1:\n",
    "    input = input + 1\n",
    "\n",
    "print(input)"
   ]
  },
  {
   "cell_type": "markdown",
   "metadata": {},
   "source": [
    "In this example we didn't cared what happens if number is even, only what happens when it is odd. If the condition check returns false nothing happens and `if` statemtn is skipped in its entirity and next statment is executed (`print(input)` in this case)"
   ]
  },
  {
   "cell_type": "markdown",
   "metadata": {},
   "source": [
    "Also notice what we did with `input` variable. We changed its value. Variables are not set in stone and we can change what values they store. Even change data types. Variables are just labels we decided to attach to some value and we may at any time choose to reassign that label to something else."
   ]
  },
  {
   "cell_type": "code",
   "execution_count": 102,
   "metadata": {},
   "outputs": [
    {
     "name": "stdout",
     "output_type": "stream",
     "text": [
      "243\n"
     ]
    }
   ],
   "source": [
    "input = 3\n",
    "input = input * 3\n",
    "input = input * 3\n",
    "input = input * 3\n",
    "input = input * 3\n",
    "print(input)"
   ]
  },
  {
   "cell_type": "code",
   "execution_count": 103,
   "metadata": {},
   "outputs": [
    {
     "name": "stdout",
     "output_type": "stream",
     "text": [
      "True\n"
     ]
    }
   ],
   "source": [
    "input = 3\n",
    "input = True\n",
    "print(input)"
   ]
  },
  {
   "cell_type": "markdown",
   "metadata": {},
   "source": [
    "We can also assign different values depending on condition:"
   ]
  },
  {
   "cell_type": "code",
   "execution_count": 106,
   "metadata": {},
   "outputs": [
    {
     "name": "stdout",
     "output_type": "stream",
     "text": [
      "100\n"
     ]
    }
   ],
   "source": [
    "# check which number is biggest:\n",
    "a = 100\n",
    "b = 20\n",
    "\n",
    "if a > b:\n",
    "    biggest = a\n",
    "else:\n",
    "    biggest = b\n",
    "\n",
    "print(biggest)"
   ]
  },
  {
   "cell_type": "markdown",
   "metadata": {},
   "source": [
    "Notice that we created the `biggest` variable inside the `if` statemetn block. We can create variables wherever we need them in the code.\n",
    "\n",
    "There are some conventions what you should do or dont do, but for now we dont have to worry about it."
   ]
  },
  {
   "cell_type": "markdown",
   "metadata": {},
   "source": [
    "# Excercise"
   ]
  },
  {
   "cell_type": "markdown",
   "metadata": {},
   "source": [
    "Go to **part_1_excercise.ipynb** complete the code blocks and try to verify if the results you get produce correct results. \n",
    "\n",
    "Try to answer questions to yourself listed at the end of excercise. You can use code to try and verify if the answer you gave is actually what a code produce.\n",
    "\n",
    "If you are ever in doubt about exact order of operations check out python [documentation](https://docs.python.org/3/reference/expressions.html#operator-precedence) on this topic.\n",
    "\n",
    "You can also check out **Extra** sections of this notebook where I go over some more in depth topics related to basic numbers, comparisons and ifs. You do not need it for now and you can skip it entirely."
   ]
  },
  {
   "cell_type": "markdown",
   "metadata": {},
   "source": [
    "# Extra - Truethiness"
   ]
  },
  {
   "cell_type": "markdown",
   "metadata": {},
   "source": [
    "I mentioned few times in the notes that `if` does not checks if condition is `True` but if it is `Truthy`"
   ]
  },
  {
   "cell_type": "markdown",
   "metadata": {},
   "source": [
    "The most concise explanation is that if we run `bool(value)` and the result is `True` thatn the value is `Truthy`. Pretty much all python objects are `Truthy` with some small exceptions:\n"
   ]
  },
  {
   "cell_type": "code",
   "execution_count": 111,
   "metadata": {},
   "outputs": [
    {
     "name": "stdout",
     "output_type": "stream",
     "text": [
      "False\n",
      "False\n",
      "False\n",
      "False\n",
      "False\n"
     ]
    }
   ],
   "source": [
    "print(bool(0))\n",
    "print(bool(0.0))\n",
    "print(bool(-0))\n",
    "print(bool(-0.0))\n",
    "print(bool(False))"
   ]
  },
  {
   "cell_type": "markdown",
   "metadata": {},
   "source": [
    "`bool(value)` is trying to change the type of value from whatever it was before to boolean `True/False`.\n",
    "\n",
    "Boolean `False`, zeroes like `0` and `0.0` and empty strings/lists/dicts (we will learn about those in next part of this chapter) are `Falsy` as they produce `False` when coerced into bool."
   ]
  },
  {
   "cell_type": "code",
   "execution_count": 110,
   "metadata": {},
   "outputs": [
    {
     "name": "stdout",
     "output_type": "stream",
     "text": [
      "True\n",
      "True\n",
      "True\n"
     ]
    }
   ],
   "source": [
    "print(bool(7))\n",
    "print(bool(-0.1))\n",
    "print(bool(True))"
   ]
  },
  {
   "cell_type": "markdown",
   "metadata": {},
   "source": [
    "Pretty much everything else is `Truthy`. \n",
    "\n",
    "What `if` does it tries to coerce the condition result into `True/False` ergo producing results like those above where for example `-7` is equal to `True` and `0.0` is equal to `False`. \n",
    "\n",
    "Lets try to write below `if` the \"normal\" way and using `Truthiness` check."
   ]
  },
  {
   "cell_type": "code",
   "execution_count": 122,
   "metadata": {},
   "outputs": [
    {
     "name": "stdout",
     "output_type": "stream",
     "text": [
      "2\n"
     ]
    }
   ],
   "source": [
    "# if Paul and Jhon's age are equal we print that they are the same age, \n",
    "# if not we calculate age difference and print it out\n",
    "\n",
    "paul = 27\n",
    "jhon = 25\n",
    "\n",
    "if paul != jhon:\n",
    "    difference = paul - jhon\n",
    "    print(difference)\n",
    "else:\n",
    "    print('they are the same age')"
   ]
  },
  {
   "cell_type": "code",
   "execution_count": 121,
   "metadata": {},
   "outputs": [
    {
     "name": "stdout",
     "output_type": "stream",
     "text": [
      "2\n"
     ]
    }
   ],
   "source": [
    "# if Paul and Jhon's age are equal we print that they are the same age, \n",
    "# if not we calculate age difference and print it out\n",
    "\n",
    "paul = 27\n",
    "jhon = 25\n",
    "difference = paul - jhon\n",
    "\n",
    "if difference:\n",
    "    print(difference)\n",
    "else:\n",
    "    print('they are the same age')"
   ]
  },
  {
   "cell_type": "markdown",
   "metadata": {},
   "source": [
    "**Its important to know that you can use such syntax to understand what it means if you see it in the wild. We can test for `Truthiness` but it is obfuscating to some degree what we are trying to acomplish.**\n",
    "\n",
    "Quoting from [The Zen of Python](https://peps.python.org/pep-0020/#the-zen-of-python):\n",
    "\n",
    "> Explicit is better than implicit.\n",
    "\n",
    "> Readability counts.\n",
    "\n",
    "If your goal is to test if age difference is not 0 do so explicitly:"
   ]
  },
  {
   "cell_type": "code",
   "execution_count": 124,
   "metadata": {},
   "outputs": [
    {
     "name": "stdout",
     "output_type": "stream",
     "text": [
      "2\n"
     ]
    }
   ],
   "source": [
    "# if Paul and Jhon's age are equal we print that they are the same age, \n",
    "# if not we calculate age difference and print it out\n",
    "\n",
    "paul = 27\n",
    "jhon = 25\n",
    "difference = paul - jhon\n",
    "\n",
    "if difference != 0:\n",
    "    print(difference)\n",
    "else:\n",
    "    print('they are the same age')"
   ]
  },
  {
   "cell_type": "code",
   "execution_count": null,
   "metadata": {},
   "outputs": [],
   "source": []
  }
 ],
 "metadata": {
  "kernelspec": {
   "display_name": "Python 3.9.12 ('test')",
   "language": "python",
   "name": "python3"
  },
  "language_info": {
   "codemirror_mode": {
    "name": "ipython",
    "version": 3
   },
   "file_extension": ".py",
   "mimetype": "text/x-python",
   "name": "python",
   "nbconvert_exporter": "python",
   "pygments_lexer": "ipython3",
   "version": "3.9.12"
  },
  "orig_nbformat": 4,
  "vscode": {
   "interpreter": {
    "hash": "0d865dd1673af87ed45e898bb58eafce2b3b50f91894445f52d1ec83b620fc07"
   }
  }
 },
 "nbformat": 4,
 "nbformat_minor": 2
}
