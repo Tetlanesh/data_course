{
 "cells": [
  {
   "cell_type": "markdown",
   "metadata": {},
   "source": [
    "# Excercise 1"
   ]
  },
  {
   "cell_type": "markdown",
   "metadata": {},
   "source": [
    "1. Two stations are 1 000 km appart with no stops in between.\n",
    "1. Two trains are starting their journey at the same time each from different station.\n",
    "    1. One is traveling 80 km/h\n",
    "    1. Second is traveling 200 km/h\n",
    "1. Both trains are traveling at constant speed at all times.\n",
    "\n",
    "How many **seconds** it will take untill those two trains meet each other?\n",
    "\n",
    "Use properly named variables and use comments if needed. You can use as many cells as you need."
   ]
  },
  {
   "cell_type": "code",
   "execution_count": null,
   "metadata": {},
   "outputs": [],
   "source": [
    "# write your code here"
   ]
  },
  {
   "cell_type": "code",
   "execution_count": null,
   "metadata": {},
   "outputs": [],
   "source": [
    "train_a = 80\n",
    "train_b = 200\n",
    "distance = 1000\n",
    "seconds_in_hour = 60 * 60"
   ]
  },
  {
   "cell_type": "code",
   "execution_count": null,
   "metadata": {},
   "outputs": [],
   "source": [
    "# I think the easiet approach is to calculate \n",
    "# relative distance each of them will travel in any unit of time\n",
    "# as the distance each will travel when they will finally meet \n",
    "# is related to the proportional speed between those two\n",
    "\n",
    "total_per_hour = train_a + train_b\n",
    "train_a_propotion = train_a / total_per_hour\n",
    "train_b_propotion = train_b / total_per_hour\n",
    "print(train_a_propotion, train_b_propotion, train_a_propotion + train_b_propotion)"
   ]
  },
  {
   "cell_type": "code",
   "execution_count": null,
   "metadata": {},
   "outputs": [],
   "source": [
    "# We can now use either train to calculate time it takes to meet\n",
    "\n",
    "time_to_meeting = train_a_propotion * distance / train_a\n",
    "time_in_seconds = time_to_meeting * seconds_in_hour\n",
    "print(time_to_meeting, time_in_seconds)\n",
    "\n",
    "time_to_meeting = train_b_propotion * distance / train_b\n",
    "time_in_seconds = time_to_meeting * seconds_in_hour\n",
    "print(time_to_meeting, time_in_seconds)"
   ]
  },
  {
   "cell_type": "code",
   "execution_count": null,
   "metadata": {},
   "outputs": [],
   "source": [
    "# lets double check\n",
    "3.5714285714285716 * (200 + 80)"
   ]
  },
  {
   "cell_type": "markdown",
   "metadata": {},
   "source": [
    "# Excercise 2"
   ]
  },
  {
   "cell_type": "markdown",
   "metadata": {},
   "source": [
    "You are tasked with setting up database for your client and one of the challanges is to prepare just enough disk space so it will fit all incoming data for 5 years but not more so we dont have to pay for bigger storage.\n",
    "\n",
    "You are told that this database will store very simple table consisting of 4 columns:\n",
    "* id - identifier taking 16 bytes\n",
    "* name - text taking at most 128 bytes\n",
    "* adress - text taking at most 256 bytes\n",
    "* marketing_consent - a True/False flag taking 1 byte\n",
    "\n",
    "You are also told that they are expecting 1 000 000 new entries every day.\n",
    "\n",
    "Print out in Gibibytes (2 to the power 30 bytes) the ammount of space that will be needed to store incoming date for next 5 years.\n",
    "\n",
    "Check if one Terabyte (10 to the power 12 bytes) drive is enough for this task. Print message reflecting the result of that check.\n",
    "\n",
    "*For the purpose of this excercise we are completly ignoring other sotware and data overhead that may take up space on disk and focusing only on calculation for this one table as given by the sum of space taken by those 4 fields*\n",
    "\n",
    "Use properly named variables and use comments if needed. You can use as many cells as you need."
   ]
  },
  {
   "cell_type": "code",
   "execution_count": null,
   "metadata": {},
   "outputs": [],
   "source": [
    "# write your code here"
   ]
  },
  {
   "cell_type": "code",
   "execution_count": null,
   "metadata": {},
   "outputs": [],
   "source": [
    "id = 16\n",
    "name = 128\n",
    "adress = 256\n",
    "consent = 1\n",
    "years = 5\n",
    "daily_ingest = 1000000\n",
    "rowsize = id + name + consent + adress\n",
    "print(rowsize)"
   ]
  },
  {
   "cell_type": "code",
   "execution_count": null,
   "metadata": {},
   "outputs": [],
   "source": [
    "space_needed = rowsize * daily_ingest * 365 * years\n",
    "print(space_needed)"
   ]
  },
  {
   "cell_type": "code",
   "execution_count": null,
   "metadata": {},
   "outputs": [],
   "source": [
    "space_in_gib = space_needed / 2 ** 30\n",
    "print(space_in_gib)"
   ]
  },
  {
   "cell_type": "code",
   "execution_count": null,
   "metadata": {},
   "outputs": [],
   "source": [
    "if space_needed > 10 ** 12:\n",
    "    print('We need more than 1 TB')\n",
    "else:\n",
    "    print('1 TB drive is enough')"
   ]
  },
  {
   "cell_type": "markdown",
   "metadata": {},
   "source": [
    "# Excercise 3"
   ]
  },
  {
   "cell_type": "markdown",
   "metadata": {},
   "source": [
    "You are given length of 3 sides of a triangle. \n",
    "\n",
    "1. Test if this triangle is [right triangle](https://en.wikipedia.org/wiki/Right_triangle) (using Pythagorean theorem). \n",
    "    * If it is:\n",
    "        1. print that infomration to the screen\n",
    "        1. calculate the area of the traingle using formula for righ triangles. \n",
    "    * If not:\n",
    "        1. print that information to the screen\n",
    "        1. calculate the area using [Heron's formula](https://www.britannica.com/science/Herons-formula).\n",
    "1. Print the area of the triangle to the screen.\n",
    "1. Change values of sides a/b/c to something completly different (including changing which sides are shortest/longest) and check if your solution still works.\n",
    "\n",
    "You can break that task into as many cells as you want. Try to use explicitly named variable names and use comments when needed.\n",
    "\n",
    "Since we did not covered square roots and other mathematical functions yet remember that square root of a number `X` can be represented as `X` to the power `1/2`"
   ]
  },
  {
   "cell_type": "code",
   "execution_count": null,
   "metadata": {},
   "outputs": [],
   "source": [
    "side_a = 3\n",
    "side_b = 5\n",
    "side_c = 4"
   ]
  },
  {
   "cell_type": "code",
   "execution_count": null,
   "metadata": {},
   "outputs": [],
   "source": [
    "# write your code here"
   ]
  },
  {
   "cell_type": "code",
   "execution_count": null,
   "metadata": {},
   "outputs": [],
   "source": [
    "# to test for right-triangle we need to detect which side is longest \n",
    "# as this will be our potential hypotenuse\n",
    "# in case of ties we dont really care what happens\n",
    "# so we dont need to worry about special cases\n",
    "\n",
    "if side_a > side_b and side_a > side_c:\n",
    "    leg1 = side_b\n",
    "    leg2 = side_c\n",
    "    hypotenuse = side_a\n",
    "elif side_b > side_a and side_b > side_c:\n",
    "    leg1 = side_a\n",
    "    leg2 = side_c\n",
    "    hypotenuse = side_b\n",
    "else:\n",
    "    leg1 = side_a\n",
    "    leg2 = side_b\n",
    "    hypotenuse = side_c"
   ]
  },
  {
   "cell_type": "code",
   "execution_count": null,
   "metadata": {},
   "outputs": [],
   "source": [
    "# now that we have found both legs and hypotenuse \n",
    "# we can test using Pythagorean theorem if it is right triangle or not\n",
    "\n",
    "if hypotenuse ** 2 == leg1 ** 2 + leg2 ** 2:\n",
    "    print('This is indeed right trangle')\n",
    "    area = leg1 * leg2 / 2 \n",
    "else:\n",
    "    print('This is not a right trangle')\n",
    "    semi_per = (side_a + side_b + side_c) / 2 \n",
    "    area = (semi_per * (semi_per - side_a) * (semi_per - side_b) * (semi_per - side_c)) ** 0.5\n",
    "\n",
    "print(area)"
   ]
  },
  {
   "cell_type": "markdown",
   "metadata": {},
   "source": [
    "# Quiz"
   ]
  },
  {
   "cell_type": "markdown",
   "metadata": {},
   "source": [
    "\n",
    "1. Where do you need to put parenthesis to make sure that `10 + 20 * 5` will give `150`?\n",
    "2. Given this comparison `11 <= 5 or 11 % 5 == 1 and 11 // 5 == 2` will answer be `True` of `False`?\n",
    "3. Given following code, what will the output if `a=20` and what it will be if `a=12`:\n",
    "```\n",
    "    if a % 3 == 0:\n",
    "        print('Divisible by 3')\n",
    "    if a % 4 == 0:\n",
    "        print('Divisible by 4')\n",
    "    if a % 5 == 0:\n",
    "        print('Divisible by 5')\n",
    "    else: \n",
    "        print('Not divisible by 5')\n",
    "```\n"
   ]
  },
  {
   "cell_type": "code",
   "execution_count": null,
   "metadata": {},
   "outputs": [],
   "source": [
    "# you can use code to try and come up with answeer if you are unsure"
   ]
  },
  {
   "cell_type": "code",
   "execution_count": null,
   "metadata": {},
   "outputs": [],
   "source": []
  }
 ],
 "metadata": {
  "kernelspec": {
   "display_name": "Python 3.9.12 ('test')",
   "language": "python",
   "name": "python3"
  },
  "language_info": {
   "codemirror_mode": {
    "name": "ipython",
    "version": 3
   },
   "file_extension": ".py",
   "mimetype": "text/x-python",
   "name": "python",
   "nbconvert_exporter": "python",
   "pygments_lexer": "ipython3",
   "version": "3.9.12"
  },
  "orig_nbformat": 4,
  "vscode": {
   "interpreter": {
    "hash": "0d865dd1673af87ed45e898bb58eafce2b3b50f91894445f52d1ec83b620fc07"
   }
  }
 },
 "nbformat": 4,
 "nbformat_minor": 2
}
